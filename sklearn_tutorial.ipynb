{
 "metadata": {
  "language_info": {
   "codemirror_mode": {
    "name": "ipython",
    "version": 3
   },
   "file_extension": ".py",
   "mimetype": "text/x-python",
   "name": "python",
   "nbconvert_exporter": "python",
   "pygments_lexer": "ipython3",
   "version": "3.8.8"
  },
  "orig_nbformat": 2,
  "kernelspec": {
   "name": "python388jvsc74a57bd02c8ae7b7397383be484f509670a744b7a75aaa69a8c48f2fc2b876db86f77bea",
   "display_name": "Python 3.8.8 64-bit"
  },
  "metadata": {
   "interpreter": {
    "hash": "2c8ae7b7397383be484f509670a744b7a75aaa69a8c48f2fc2b876db86f77bea"
   }
  }
 },
 "nbformat": 4,
 "nbformat_minor": 2,
 "cells": [
  {
   "source": [
    "# Sklearn Tutorial\n",
    "\n",
    "This notebook was created durring the Spring semester of 2021 while doing research funded by XSEDE. \n",
    "This notebook in particular was a simplified and cleaned up version of our research source code that can be used as a template for learning the framework. We will also look into other python libraries like pandas and pickle \n",
    "### Goal:\n",
    "In this notebook we will be using astronomical data from pulsars. The goal is to create a model that can accuratly predict if the data collected is from a pulsar or from Radio Frequency Interference (RFI). In machine learning, this is reffered to as a classification problem where we have input variables and need to group them into different classes. In this case, we have 2 classes: Pulsars and RFI.\n",
    "<br>\n",
    "Pictures of Pulsars:\n",
    "<br>\n",
    "<img src=\"notebook_data/pulsar_picture.jpg\" style=\"height:200px\">\n",
    "<img src=\"notebook_data/pulsar_picture2.jpg\" style=\"height:200px\">"
   ],
   "cell_type": "markdown",
   "metadata": {}
  },
  {
   "source": [
    "## Getting Current Working Directory\n",
    "I've found that using local paths to files is a little buggy while using the pickles library. So, to aliviate the problem, we will use an absolute path by getting the current working directory and then joining that path to the local path when we load and save files. For more information on this you can read this article by [TutorialsPoint](https://www.tutorialspoint.com/python/os_getcwd.htm)."
   ],
   "cell_type": "markdown",
   "metadata": {}
  },
  {
   "cell_type": "code",
   "execution_count": 9,
   "metadata": {},
   "outputs": [],
   "source": [
    "import os\n",
    "here = os.getcwd()"
   ]
  },
  {
   "source": [
    "## Pandas and the HTRU Dataset\n",
    "Pandas is a Python library that provides helpful datastructures and functions to manipulate the data. The main structure is called a dataframe. The way we used this structure was basically a 2D array that holds our data. For more information on the Pandas library, check out [pandas documentation](https://pandas.pydata.org/docs/). It is also convention to import pandas as pd. This shorthand allows us to more quickly use pandas methods without having to type out 'pandas' every time we use it.\n",
    "<br><br>\n",
    "Now we need to load our dataset into a pandas dataframe. The dataset we will be using is the HTRU dataset. This is a clean dataset that has 8 input values and a class label for over 17,000 pieces of data. You can find and download the set [here](https://www.kaggle.com/charitarth/pulsar-dataset-htru2). However, it is also provided in this repository saved as a csv file. The folks that created this open-source dataset requested any work that uses it provides the following citation: \n",
    "<br><br>\n",
    "R. J. Lyon, B. W. Stappers, S. Cooper, J. M. Brooke, J. D. Knowles, Fifty Years of Pulsar\n",
    "<br>\t&emsp; Candidate Selection: From simple filters to a new principled real-time classification approach\n",
    "<br>\t&emsp; MNRAS, 2016.\n",
    "\n",
    "<br>\n",
    "For more information on the dataset, you can also check out the detailed documentation I found on [their website](https://archive.ics.uci.edu/ml/datasets/HTRU2). This is also provided in this repository under htru_citation.txt."
   ],
   "cell_type": "markdown",
   "metadata": {}
  },
  {
   "cell_type": "code",
   "execution_count": 10,
   "metadata": {},
   "outputs": [
    {
     "output_type": "execute_result",
     "data": {
      "text/plain": [
       "     140.5625  55.68378214  -0.234571412  -0.699648398  3.199832776  \\\n",
       "0  102.507812    58.882430      0.465318     -0.515088     1.677258   \n",
       "1  103.015625    39.341649      0.323328      1.051164     3.121237   \n",
       "2  136.750000    57.178449     -0.068415     -0.636238     3.642977   \n",
       "3   88.726562    40.672225      0.600866      1.123492     1.178930   \n",
       "4   93.570312    46.698114      0.531905      0.416721     1.636288   \n",
       "\n",
       "   19.11042633  7.975531794  74.24222492  0  \n",
       "0    14.860146    10.576487   127.393580  0  \n",
       "1    21.744669     7.735822    63.171909  0  \n",
       "2    20.959280     6.896499    53.593661  0  \n",
       "3    11.468720    14.269573   252.567306  0  \n",
       "4    14.545074    10.621748   131.394004  0  "
      ],
      "text/html": "<div>\n<style scoped>\n    .dataframe tbody tr th:only-of-type {\n        vertical-align: middle;\n    }\n\n    .dataframe tbody tr th {\n        vertical-align: top;\n    }\n\n    .dataframe thead th {\n        text-align: right;\n    }\n</style>\n<table border=\"1\" class=\"dataframe\">\n  <thead>\n    <tr style=\"text-align: right;\">\n      <th></th>\n      <th>140.5625</th>\n      <th>55.68378214</th>\n      <th>-0.234571412</th>\n      <th>-0.699648398</th>\n      <th>3.199832776</th>\n      <th>19.11042633</th>\n      <th>7.975531794</th>\n      <th>74.24222492</th>\n      <th>0</th>\n    </tr>\n  </thead>\n  <tbody>\n    <tr>\n      <th>0</th>\n      <td>102.507812</td>\n      <td>58.882430</td>\n      <td>0.465318</td>\n      <td>-0.515088</td>\n      <td>1.677258</td>\n      <td>14.860146</td>\n      <td>10.576487</td>\n      <td>127.393580</td>\n      <td>0</td>\n    </tr>\n    <tr>\n      <th>1</th>\n      <td>103.015625</td>\n      <td>39.341649</td>\n      <td>0.323328</td>\n      <td>1.051164</td>\n      <td>3.121237</td>\n      <td>21.744669</td>\n      <td>7.735822</td>\n      <td>63.171909</td>\n      <td>0</td>\n    </tr>\n    <tr>\n      <th>2</th>\n      <td>136.750000</td>\n      <td>57.178449</td>\n      <td>-0.068415</td>\n      <td>-0.636238</td>\n      <td>3.642977</td>\n      <td>20.959280</td>\n      <td>6.896499</td>\n      <td>53.593661</td>\n      <td>0</td>\n    </tr>\n    <tr>\n      <th>3</th>\n      <td>88.726562</td>\n      <td>40.672225</td>\n      <td>0.600866</td>\n      <td>1.123492</td>\n      <td>1.178930</td>\n      <td>11.468720</td>\n      <td>14.269573</td>\n      <td>252.567306</td>\n      <td>0</td>\n    </tr>\n    <tr>\n      <th>4</th>\n      <td>93.570312</td>\n      <td>46.698114</td>\n      <td>0.531905</td>\n      <td>0.416721</td>\n      <td>1.636288</td>\n      <td>14.545074</td>\n      <td>10.621748</td>\n      <td>131.394004</td>\n      <td>0</td>\n    </tr>\n  </tbody>\n</table>\n</div>"
     },
     "metadata": {},
     "execution_count": 10
    }
   ],
   "source": [
    "import pandas as pd \n",
    "\n",
    "# pandas .read_csv() method saves a csv file into a pandas dataframe\n",
    "data_frame = pd.read_csv(os.path.join(here, 'HTRU_2.csv'))\n",
    "\n",
    "# .head() lets us look at the structure of the dataframe and the first 5 rows\n",
    "data_frame.head() "
   ]
  },
  {
   "source": [
    "## Missing Column Headers\n",
    "Notice that there are no column labels in the current dataframe. It bassically used the first piece of data as the column headers. We need to update the column headers with more useful headers. As described by the dataset creaters, the following are what each column corrisponds to:\n",
    "\n",
    "<ol>\n",
    "    <li>Mean of integrated profile</li>\n",
    "\t<li>Standard deviation of the integrated profile</li>\n",
    "\t<li>Excess kurtosis of the integrated profile</li>\n",
    "\t<li>Skewness of the integrated profile</li>\n",
    "\t<li>Mean of the DM-SNR curve</li>\n",
    "\t<li>Standard deviation of the DM-SNR curve</li>\n",
    "\t<li>Excess kurtosis of the DM-SNR curve</li>\n",
    "\t<li>Skewness of the DM-SNR curve</li>\n",
    "\t<li>Class</li>\n",
    "</ol>\n",
    "So, we will update the column headers of our data frame to better represent the above."
   ],
   "cell_type": "markdown",
   "metadata": {}
  },
  {
   "cell_type": "code",
   "execution_count": 11,
   "metadata": {},
   "outputs": [
    {
     "output_type": "execute_result",
     "data": {
      "text/plain": [
       "   Mean of Int. Prof.  Stand. Deviation of Int. Prof.  \\\n",
       "0          102.507812                       58.882430   \n",
       "1          103.015625                       39.341649   \n",
       "2          136.750000                       57.178449   \n",
       "3           88.726562                       40.672225   \n",
       "4           93.570312                       46.698114   \n",
       "\n",
       "   Excess Kurtosis of Int. Prof.  Skewness of Int. Prof.  Mean of Curve  \\\n",
       "0                       0.465318               -0.515088       1.677258   \n",
       "1                       0.323328                1.051164       3.121237   \n",
       "2                      -0.068415               -0.636238       3.642977   \n",
       "3                       0.600866                1.123492       1.178930   \n",
       "4                       0.531905                0.416721       1.636288   \n",
       "\n",
       "    Stand. Deviation of Curve  Excess Kurtosis of Curve  Skewness of Curve  \\\n",
       "0                   14.860146                 10.576487         127.393580   \n",
       "1                   21.744669                  7.735822          63.171909   \n",
       "2                   20.959280                  6.896499          53.593661   \n",
       "3                   11.468720                 14.269573         252.567306   \n",
       "4                   14.545074                 10.621748         131.394004   \n",
       "\n",
       "   Class  \n",
       "0      0  \n",
       "1      0  \n",
       "2      0  \n",
       "3      0  \n",
       "4      0  "
      ],
      "text/html": "<div>\n<style scoped>\n    .dataframe tbody tr th:only-of-type {\n        vertical-align: middle;\n    }\n\n    .dataframe tbody tr th {\n        vertical-align: top;\n    }\n\n    .dataframe thead th {\n        text-align: right;\n    }\n</style>\n<table border=\"1\" class=\"dataframe\">\n  <thead>\n    <tr style=\"text-align: right;\">\n      <th></th>\n      <th>Mean of Int. Prof.</th>\n      <th>Stand. Deviation of Int. Prof.</th>\n      <th>Excess Kurtosis of Int. Prof.</th>\n      <th>Skewness of Int. Prof.</th>\n      <th>Mean of Curve</th>\n      <th>Stand. Deviation of Curve</th>\n      <th>Excess Kurtosis of Curve</th>\n      <th>Skewness of Curve</th>\n      <th>Class</th>\n    </tr>\n  </thead>\n  <tbody>\n    <tr>\n      <th>0</th>\n      <td>102.507812</td>\n      <td>58.882430</td>\n      <td>0.465318</td>\n      <td>-0.515088</td>\n      <td>1.677258</td>\n      <td>14.860146</td>\n      <td>10.576487</td>\n      <td>127.393580</td>\n      <td>0</td>\n    </tr>\n    <tr>\n      <th>1</th>\n      <td>103.015625</td>\n      <td>39.341649</td>\n      <td>0.323328</td>\n      <td>1.051164</td>\n      <td>3.121237</td>\n      <td>21.744669</td>\n      <td>7.735822</td>\n      <td>63.171909</td>\n      <td>0</td>\n    </tr>\n    <tr>\n      <th>2</th>\n      <td>136.750000</td>\n      <td>57.178449</td>\n      <td>-0.068415</td>\n      <td>-0.636238</td>\n      <td>3.642977</td>\n      <td>20.959280</td>\n      <td>6.896499</td>\n      <td>53.593661</td>\n      <td>0</td>\n    </tr>\n    <tr>\n      <th>3</th>\n      <td>88.726562</td>\n      <td>40.672225</td>\n      <td>0.600866</td>\n      <td>1.123492</td>\n      <td>1.178930</td>\n      <td>11.468720</td>\n      <td>14.269573</td>\n      <td>252.567306</td>\n      <td>0</td>\n    </tr>\n    <tr>\n      <th>4</th>\n      <td>93.570312</td>\n      <td>46.698114</td>\n      <td>0.531905</td>\n      <td>0.416721</td>\n      <td>1.636288</td>\n      <td>14.545074</td>\n      <td>10.621748</td>\n      <td>131.394004</td>\n      <td>0</td>\n    </tr>\n  </tbody>\n</table>\n</div>"
     },
     "metadata": {},
     "execution_count": 11
    }
   ],
   "source": [
    "data_frame.columns =['Mean of Int. Prof.', 'Stand. Deviation of Int. Prof.', \n",
    "                     'Excess Kurtosis of Int. Prof.', 'Skewness of Int. Prof.',\n",
    "                     'Mean of Curve', ' Stand. Deviation of Curve', 'Excess Kurtosis of Curve',\n",
    "                     'Skewness of Curve', 'Class']\n",
    "\n",
    "# Now that we added column headers lets look at the header\n",
    "data_frame.head()"
   ]
  },
  {
   "source": [
    "## Looking Closer at Our Data\n",
    "Now that we have imported our data and cleaned up the column headers, we need to make sure the dataset itself is clean. The two things we need to check for are duplicates in the data and holes in our data. There are a few helpful methods in the pandas library that will help us check our dataset very easily. Let's start by checking the shape of our dataframe using pandas .shape. This will tell us how many objects there are in the dataset and how many attributes each object has."
   ],
   "cell_type": "markdown",
   "metadata": {}
  },
  {
   "cell_type": "code",
   "execution_count": 12,
   "metadata": {},
   "outputs": [
    {
     "output_type": "execute_result",
     "data": {
      "text/plain": [
       "(17897, 9)"
      ]
     },
     "metadata": {},
     "execution_count": 12
    }
   ],
   "source": [
    "data_frame.shape"
   ]
  },
  {
   "source": [
    "As seen above, our dataframe has 17,897 different objects that are either pulsars or RFI. And each object has 9 attributes which would be the 8 attributes plus the class label. \n",
    "<br>\n",
    "Now, let's make sure that there are no duplicates in the data. We will do this by using the pandas method [.drop_duplicates().](https://pandas.pydata.org/docs/reference/api/pandas.DataFrame.drop_duplicates.html) We can then check the shape again to see if any duplicates were found."
   ],
   "cell_type": "markdown",
   "metadata": {}
  },
  {
   "cell_type": "code",
   "execution_count": 16,
   "metadata": {},
   "outputs": [
    {
     "output_type": "stream",
     "name": "stdout",
     "text": [
      "Before dropping duplicates: (17897, 9)\nAfter dropping duplicates:  (17897, 9)\n"
     ]
    }
   ],
   "source": [
    "print('Before dropping duplicates: ' + str(data_frame.shape))\n",
    "data_frame = data_frame.drop_duplicates()\n",
    "print('After dropping duplicates:  ' + str(data_frame.shape))"
   ]
  },
  {
   "source": [
    "As you can see, there was no change in the number of objects in the data frame. This means there were no duplicates found in the dataset. If you do come accross a dataset that has duplicates, it is important to drop them so your model will not be biased towards those objects.\n",
    "<br>\n",
    "Next, let's check for fields with missing data. for this, we will use the [.isnull()](https://pandas.pydata.org/pandas-docs/stable/reference/api/pandas.isnull.html) method that will flag the objects with missing data by creating a boolean data frame marking which elements are missing. We will then use the [.sum()](https://pandas.pydata.org/docs/reference/api/pandas.DataFrame.sum.html) function to count up the number of missing data in each column and display the totals for each column."
   ],
   "cell_type": "markdown",
   "metadata": {}
  },
  {
   "cell_type": "code",
   "execution_count": 19,
   "metadata": {},
   "outputs": [
    {
     "output_type": "execute_result",
     "data": {
      "text/plain": [
       "Mean of Int. Prof.                0\n",
       "Stand. Deviation of Int. Prof.    0\n",
       "Excess Kurtosis of Int. Prof.     0\n",
       "Skewness of Int. Prof.            0\n",
       "Mean of Curve                     0\n",
       " Stand. Deviation of Curve        0\n",
       "Excess Kurtosis of Curve          0\n",
       "Skewness of Curve                 0\n",
       "Class                             0\n",
       "dtype: int64"
      ]
     },
     "metadata": {},
     "execution_count": 19
    }
   ],
   "source": [
    "data_frame.isnull().sum() "
   ]
  },
  {
   "source": [
    "Since all of the columns have no missing data, we can safely move forward with this dataset. If you do run into a dataset that has missing data you can use panda method [.dropna()](https://pandas.pydata.org/docs/reference/api/pandas.DataFrame.dropna.html?highlight=dropna)."
   ],
   "cell_type": "markdown",
   "metadata": {}
  },
  {
   "source": [
    "## Distribution of Data\n",
    "Lets look at the distribution of our data between the two classes (pulsars vs non-pulsars). To do this, I made a dataframe that has all the pulsars in it and a data frame with the non pulsars in it. From there, if you just take the length of both, you can print the distribution."
   ],
   "cell_type": "markdown",
   "metadata": {}
  },
  {
   "cell_type": "code",
   "execution_count": 20,
   "metadata": {},
   "outputs": [
    {
     "output_type": "stream",
     "name": "stdout",
     "text": [
      "Number of Non-Pulsars: 16258\nNumber of Pulsars:     1639\nRatio of Pulsars: 0.09157959434542103\n"
     ]
    }
   ],
   "source": [
    "# To break down what is done in these 2 lines\n",
    "# data_frame[data_frame.Class == 0] returns\n",
    "# a dataframe including all of the rows with a class 0\n",
    "# len simply returns the length of such a dataframe\n",
    "\n",
    "# a class of 0 is non pulsar and 1 is pulsar\n",
    "print('Number of Non-Pulsars: ' + str(len(data_frame[data_frame.Class == 0])))\n",
    "print('Number of Pulsars:     ' + str(len(data_frame[data_frame.Class == 1])))\n",
    "print('Ratio of Pulsars: ' + str(1639/(16258+1639)))\n"
   ]
  },
  {
   "source": [
    "Here is a pie chart to better visualize the data:\n",
    "<br>\n",
    "<img src='notebook_data/pie_chart1.png'>\n",
    "<br>\n",
    "There is obviously an inbalance here. Over 90% of the data is in one class. We need to be careful that this inbalance will not bias our model too much. This means the model will favor classifying any new data as RFI which will lead to more missed predictions of pulsars. "
   ],
   "cell_type": "markdown",
   "metadata": {}
  },
  {
   "source": [
    "## Creating Input and Output data frames\n",
    "The next step in the process is to separate the inputs from the ouputs. In this case, columns 1-8 are inputs and the outputs are in the last column (Class). So, we need to save the first 8 columns into a separate data frame from the last column. We will label the input data frame as x and the output data frame as y.\n",
    "<br>\n",
    "To create the input data frame, we can use the pandas function [.drop()](https://pandas.pydata.org/pandas-docs/stable/reference/api/pandas.DataFrame.drop.html). The goal is to create a copy of our dataframe and drop the last column. \n",
    "<br>\n",
    "To create the output data frame, we can use the pandas function [.loc](https://pandas.pydata.org/docs/reference/api/pandas.DataFrame.loc.html) to access the Class column and save it to y."
   ],
   "cell_type": "markdown",
   "metadata": {}
  },
  {
   "cell_type": "code",
   "execution_count": 30,
   "metadata": {},
   "outputs": [
    {
     "output_type": "stream",
     "name": "stdout",
     "text": [
      "(17897, 8)\n(17897, 1)\n"
     ]
    }
   ],
   "source": [
    "# axis 1 represents the columns (obviously axis 0 will represent the rows)\n",
    "# inplace determines whether or not what is returned is a modified copy or \n",
    "# if the operation is done on the original dataframe\n",
    "# since we want to save a modified copy we set inplace=False\n",
    "x = data_frame.drop(['Class'], axis=1, inplace=False)\n",
    "\n",
    "# Now let's grab the class column for our output vector\n",
    "# the first parameter controls which rows we want, and the second controls the columns we want\n",
    "# in our case, we want all the rows and the Class column\n",
    "y = data_frame.loc[:, ['Class']]\n",
    "\n",
    "# Let's look at the shape and see if they match our expectations\n",
    "print(x.shape)\n",
    "print(y.shape)"
   ]
  },
  {
   "source": [
    "Just to double check our work, let's look at the heads of each data frame to see what these operations did. As you can see below, x has all of the input columns and y has the output columns as we expected."
   ],
   "cell_type": "markdown",
   "metadata": {}
  },
  {
   "cell_type": "code",
   "execution_count": 28,
   "metadata": {},
   "outputs": [
    {
     "output_type": "execute_result",
     "data": {
      "text/plain": [
       "   Mean of Int. Prof.  Stand. Deviation of Int. Prof.  \\\n",
       "0          102.507812                       58.882430   \n",
       "1          103.015625                       39.341649   \n",
       "2          136.750000                       57.178449   \n",
       "3           88.726562                       40.672225   \n",
       "4           93.570312                       46.698114   \n",
       "\n",
       "   Excess Kurtosis of Int. Prof.  Skewness of Int. Prof.  Mean of Curve  \\\n",
       "0                       0.465318               -0.515088       1.677258   \n",
       "1                       0.323328                1.051164       3.121237   \n",
       "2                      -0.068415               -0.636238       3.642977   \n",
       "3                       0.600866                1.123492       1.178930   \n",
       "4                       0.531905                0.416721       1.636288   \n",
       "\n",
       "    Stand. Deviation of Curve  Excess Kurtosis of Curve  Skewness of Curve  \n",
       "0                   14.860146                 10.576487         127.393580  \n",
       "1                   21.744669                  7.735822          63.171909  \n",
       "2                   20.959280                  6.896499          53.593661  \n",
       "3                   11.468720                 14.269573         252.567306  \n",
       "4                   14.545074                 10.621748         131.394004  "
      ],
      "text/html": "<div>\n<style scoped>\n    .dataframe tbody tr th:only-of-type {\n        vertical-align: middle;\n    }\n\n    .dataframe tbody tr th {\n        vertical-align: top;\n    }\n\n    .dataframe thead th {\n        text-align: right;\n    }\n</style>\n<table border=\"1\" class=\"dataframe\">\n  <thead>\n    <tr style=\"text-align: right;\">\n      <th></th>\n      <th>Mean of Int. Prof.</th>\n      <th>Stand. Deviation of Int. Prof.</th>\n      <th>Excess Kurtosis of Int. Prof.</th>\n      <th>Skewness of Int. Prof.</th>\n      <th>Mean of Curve</th>\n      <th>Stand. Deviation of Curve</th>\n      <th>Excess Kurtosis of Curve</th>\n      <th>Skewness of Curve</th>\n    </tr>\n  </thead>\n  <tbody>\n    <tr>\n      <th>0</th>\n      <td>102.507812</td>\n      <td>58.882430</td>\n      <td>0.465318</td>\n      <td>-0.515088</td>\n      <td>1.677258</td>\n      <td>14.860146</td>\n      <td>10.576487</td>\n      <td>127.393580</td>\n    </tr>\n    <tr>\n      <th>1</th>\n      <td>103.015625</td>\n      <td>39.341649</td>\n      <td>0.323328</td>\n      <td>1.051164</td>\n      <td>3.121237</td>\n      <td>21.744669</td>\n      <td>7.735822</td>\n      <td>63.171909</td>\n    </tr>\n    <tr>\n      <th>2</th>\n      <td>136.750000</td>\n      <td>57.178449</td>\n      <td>-0.068415</td>\n      <td>-0.636238</td>\n      <td>3.642977</td>\n      <td>20.959280</td>\n      <td>6.896499</td>\n      <td>53.593661</td>\n    </tr>\n    <tr>\n      <th>3</th>\n      <td>88.726562</td>\n      <td>40.672225</td>\n      <td>0.600866</td>\n      <td>1.123492</td>\n      <td>1.178930</td>\n      <td>11.468720</td>\n      <td>14.269573</td>\n      <td>252.567306</td>\n    </tr>\n    <tr>\n      <th>4</th>\n      <td>93.570312</td>\n      <td>46.698114</td>\n      <td>0.531905</td>\n      <td>0.416721</td>\n      <td>1.636288</td>\n      <td>14.545074</td>\n      <td>10.621748</td>\n      <td>131.394004</td>\n    </tr>\n  </tbody>\n</table>\n</div>"
     },
     "metadata": {},
     "execution_count": 28
    }
   ],
   "source": [
    "x.head()"
   ]
  },
  {
   "cell_type": "code",
   "execution_count": 29,
   "metadata": {},
   "outputs": [
    {
     "output_type": "execute_result",
     "data": {
      "text/plain": [
       "   Class\n",
       "0      0\n",
       "1      0\n",
       "2      0\n",
       "3      0\n",
       "4      0"
      ],
      "text/html": "<div>\n<style scoped>\n    .dataframe tbody tr th:only-of-type {\n        vertical-align: middle;\n    }\n\n    .dataframe tbody tr th {\n        vertical-align: top;\n    }\n\n    .dataframe thead th {\n        text-align: right;\n    }\n</style>\n<table border=\"1\" class=\"dataframe\">\n  <thead>\n    <tr style=\"text-align: right;\">\n      <th></th>\n      <th>Class</th>\n    </tr>\n  </thead>\n  <tbody>\n    <tr>\n      <th>0</th>\n      <td>0</td>\n    </tr>\n    <tr>\n      <th>1</th>\n      <td>0</td>\n    </tr>\n    <tr>\n      <th>2</th>\n      <td>0</td>\n    </tr>\n    <tr>\n      <th>3</th>\n      <td>0</td>\n    </tr>\n    <tr>\n      <th>4</th>\n      <td>0</td>\n    </tr>\n  </tbody>\n</table>\n</div>"
     },
     "metadata": {},
     "execution_count": 29
    }
   ],
   "source": [
    "y.head()"
   ]
  },
  {
   "source": [
    "## Separate Data Into Testing and Training Sets\n",
    "The next step is to separate our data into a training set and a testing set. This way we can train our model and then test the accuracy based on new data (data the model hasn't seen yet). This practice will help us get more acurate representation of how the model will act on new data. \n",
    "<br>\n",
    "Sklearn has a function [.train_test_split()](https://scikit-learn.org/stable/modules/generated/sklearn.model_selection.train_test_split.html) that splits the data frames for us. The method returns 4 data frames in total: training inputs, testing inputs, training outputs and testing outputs. The parameter test_size determines what percentage of the dataframe is used for testing. In our case we used 20% for testing. This leaves 80% of our data to train off of. The parameter random_state is the seed for the sudo-random number generator for shuffling data. The documentation said 42 was a common seed to use so we will use that."
   ],
   "cell_type": "markdown",
   "metadata": {}
  },
  {
   "cell_type": "code",
   "execution_count": 31,
   "metadata": {},
   "outputs": [
    {
     "output_type": "stream",
     "name": "stdout",
     "text": [
      "14317\n14317\n3580\n3580\n"
     ]
    }
   ],
   "source": [
    "from sklearn.model_selection import train_test_split\n",
    "\n",
    "x_train, x_test, y_train, y_test = train_test_split(x, y, test_size= 0.2, random_state=42)\n",
    "\n",
    "# Let's look at the size of the different dataframes to see what the function did\n",
    "print((x_train.size)//8) # divide by 8 because there are 8 columns (// is integer division in python)\n",
    "print(y_train.size)\n",
    "print((x_test.size)//8) # divide by 8 because there are 8 columns\n",
    "print(y_test.size)"
   ]
  },
  {
   "source": [
    "Let's make sure that the test and training sets contain a similar ratio of pulsars to non pulsars."
   ],
   "cell_type": "markdown",
   "metadata": {}
  },
  {
   "cell_type": "code",
   "execution_count": 12,
   "metadata": {},
   "outputs": [
    {
     "output_type": "stream",
     "name": "stdout",
     "text": [
      "TRAINING SET STATS:\nNumber of Non-Pulsars=12999\nNumber of Pulsars=1318\nRatio of Pulsars=0.09205839212125445\n\nTESTING SET STATS:\nNumber of Non-Pulsars=3259\nNumber of Pulsars=321\nRatio of Pulsars=0.08966480446927375\n"
     ]
    }
   ],
   "source": [
    "non_pulsar_train = len(y_train[y_train.Class == 0])\n",
    "pulsar_train = len(y_train[y_train.Class == 1])\n",
    "percent_pusar_train = pulsar_train/(non_pulsar_train+pulsar_train)\n",
    "\n",
    "non_pulsar_test = len(y_test[y_test.Class == 0])\n",
    "pulsar_test = len(y_test[y_test.Class == 1])\n",
    "percent_pusar_test = pulsar_test/(non_pulsar_test+pulsar_test)\n",
    "\n",
    "print(\"TRAINING SET STATS:\")\n",
    "print('Number of Non-Pulsars=' + str(non_pulsar_train))\n",
    "print('Number of Pulsars=' + str(pulsar_train))\n",
    "print('Ratio of Pulsars=' + str(percent_pusar_train))\n",
    "print('\\nTESTING SET STATS:')\n",
    "print('Number of Non-Pulsars=' + str(non_pulsar_test))\n",
    "print('Number of Pulsars=' + str(pulsar_test))\n",
    "print('Ratio of Pulsars=' + str(percent_pusar_test))"
   ]
  },
  {
   "source": [
    "Pie charts to help with visualization:\n",
    "<br>\n",
    "<img src ='pie_chart2.png'><img src='pie_chart3.png'>"
   ],
   "cell_type": "markdown",
   "metadata": {}
  },
  {
   "cell_type": "code",
   "execution_count": 13,
   "metadata": {},
   "outputs": [],
   "source": [
    "# Both have a good distribution very close to each other as well\n",
    "# as the overall original's distribution\n",
    "\n",
    "# Now that we have input and output can start training our models\n",
    "\n",
    "# We will use models from the scikit learn library\n",
    "# scikit learn also offers helpful metrics that will help us visualize the performance of our model\n",
    "\n",
    "# acuracy score tells us the percentage of correct predictions our model made\n",
    "from sklearn.metrics import accuracy_score\n",
    "\n",
    "# Confusion matrix helps us visullize number of guesses that were right/wrong in each category\n",
    "from sklearn.metrics import confusion_matrix\n",
    "\n",
    "# f1 score summarizes the accuracy of true positives/ false positives/ true negatives/ false negatives\n",
    "# basically a percentage version of the confusion matrix\n",
    "from sklearn.metrics import f1_score"
   ]
  },
  {
   "cell_type": "code",
   "execution_count": 14,
   "metadata": {},
   "outputs": [
    {
     "output_type": "stream",
     "name": "stderr",
     "text": [
      "C:\\Users\\nnull\\AppData\\Local\\Programs\\Python\\Python38\\lib\\site-packages\\sklearn\\utils\\validation.py:63: DataConversionWarning: A column-vector y was passed when a 1d array was expected. Please change the shape of y to (n_samples, ), for example using ravel().\n",
      "  return f(*args, **kwargs)\n",
      "Accuracy Score: 0.9787709497206704\n",
      "F1 Score: [0.98838631 0.87662338]\n"
     ]
    },
    {
     "output_type": "display_data",
     "data": {
      "text/plain": "<Figure size 432x288 with 1 Axes>",
      "image/svg+xml": "<?xml version=\"1.0\" encoding=\"utf-8\" standalone=\"no\"?>\r\n<!DOCTYPE svg PUBLIC \"-//W3C//DTD SVG 1.1//EN\"\r\n  \"http://www.w3.org/Graphics/SVG/1.1/DTD/svg11.dtd\">\r\n<!-- Created with matplotlib (https://matplotlib.org/) -->\r\n<svg height=\"279.978906pt\" version=\"1.1\" viewBox=\"0 0 424.663281 279.978906\" width=\"424.663281pt\" xmlns=\"http://www.w3.org/2000/svg\" xmlns:xlink=\"http://www.w3.org/1999/xlink\">\r\n <metadata>\r\n  <rdf:RDF xmlns:cc=\"http://creativecommons.org/ns#\" xmlns:dc=\"http://purl.org/dc/elements/1.1/\" xmlns:rdf=\"http://www.w3.org/1999/02/22-rdf-syntax-ns#\">\r\n   <cc:Work>\r\n    <dc:type rdf:resource=\"http://purl.org/dc/dcmitype/StillImage\"/>\r\n    <dc:date>2021-04-19T00:01:47.461310</dc:date>\r\n    <dc:format>image/svg+xml</dc:format>\r\n    <dc:creator>\r\n     <cc:Agent>\r\n      <dc:title>Matplotlib v3.3.4, https://matplotlib.org/</dc:title>\r\n     </cc:Agent>\r\n    </dc:creator>\r\n   </cc:Work>\r\n  </rdf:RDF>\r\n </metadata>\r\n <defs>\r\n  <style type=\"text/css\">*{stroke-linecap:butt;stroke-linejoin:round;}</style>\r\n </defs>\r\n <g id=\"figure_1\">\r\n  <g id=\"patch_1\">\r\n   <path d=\"M 0 279.978906 \r\nL 424.663281 279.978906 \r\nL 424.663281 0 \r\nL 0 0 \r\nz\r\n\" style=\"fill:#ffffff;\"/>\r\n  </g>\r\n  <g id=\"axes_1\">\r\n   <g id=\"patch_2\">\r\n    <path d=\"M 37.563281 242.415625 \r\nL 417.463281 242.415625 \r\nL 417.463281 27.515625 \r\nL 37.563281 27.515625 \r\nz\r\n\" style=\"fill:#eaeaf2;\"/>\r\n   </g>\r\n   <g id=\"matplotlib.axis_1\">\r\n    <g id=\"xtick_1\">\r\n     <g id=\"line2d_1\"/>\r\n     <g id=\"text_1\">\r\n      <!-- RFI -->\r\n      <g style=\"fill:#262626;\" transform=\"translate(124.484375 253.073438)scale(0.1 -0.1)\">\r\n       <defs>\r\n        <path d=\"M 7.859375 0 \r\nL 7.859375 71.578125 \r\nL 39.59375 71.578125 \r\nQ 49.171875 71.578125 54.140625 69.640625 \r\nQ 59.125 67.71875 62.109375 62.828125 \r\nQ 65.09375 57.953125 65.09375 52.046875 \r\nQ 65.09375 44.4375 60.15625 39.203125 \r\nQ 55.21875 33.984375 44.921875 32.5625 \r\nQ 48.6875 30.765625 50.640625 29 \r\nQ 54.78125 25.203125 58.5 19.484375 \r\nL 70.953125 0 \r\nL 59.03125 0 \r\nL 49.5625 14.890625 \r\nQ 45.40625 21.34375 42.71875 24.75 \r\nQ 40.046875 28.171875 37.921875 29.53125 \r\nQ 35.796875 30.90625 33.59375 31.453125 \r\nQ 31.984375 31.78125 28.328125 31.78125 \r\nL 17.328125 31.78125 \r\nL 17.328125 0 \r\nz\r\nM 17.328125 39.984375 \r\nL 37.703125 39.984375 \r\nQ 44.1875 39.984375 47.84375 41.328125 \r\nQ 51.515625 42.671875 53.421875 45.625 \r\nQ 55.328125 48.578125 55.328125 52.046875 \r\nQ 55.328125 57.125 51.640625 60.390625 \r\nQ 47.953125 63.671875 39.984375 63.671875 \r\nL 17.328125 63.671875 \r\nz\r\n\" id=\"ArialMT-82\"/>\r\n        <path d=\"M 8.203125 0 \r\nL 8.203125 71.578125 \r\nL 56.5 71.578125 \r\nL 56.5 63.140625 \r\nL 17.671875 63.140625 \r\nL 17.671875 40.96875 \r\nL 51.265625 40.96875 \r\nL 51.265625 32.515625 \r\nL 17.671875 32.515625 \r\nL 17.671875 0 \r\nz\r\n\" id=\"ArialMT-70\"/>\r\n        <path d=\"M 9.328125 0 \r\nL 9.328125 71.578125 \r\nL 18.796875 71.578125 \r\nL 18.796875 0 \r\nz\r\n\" id=\"ArialMT-73\"/>\r\n       </defs>\r\n       <use xlink:href=\"#ArialMT-82\"/>\r\n       <use x=\"72.216797\" xlink:href=\"#ArialMT-70\"/>\r\n       <use x=\"133.300781\" xlink:href=\"#ArialMT-73\"/>\r\n      </g>\r\n     </g>\r\n    </g>\r\n    <g id=\"xtick_2\">\r\n     <g id=\"line2d_2\"/>\r\n     <g id=\"text_2\">\r\n      <!-- Pulsar -->\r\n      <g style=\"fill:#262626;\" transform=\"translate(308.316406 253.073438)scale(0.1 -0.1)\">\r\n       <defs>\r\n        <path d=\"M 7.71875 0 \r\nL 7.71875 71.578125 \r\nL 34.71875 71.578125 \r\nQ 41.84375 71.578125 45.609375 70.90625 \r\nQ 50.875 70.015625 54.4375 67.546875 \r\nQ 58.015625 65.09375 60.1875 60.640625 \r\nQ 62.359375 56.203125 62.359375 50.875 \r\nQ 62.359375 41.75 56.546875 35.421875 \r\nQ 50.734375 29.109375 35.546875 29.109375 \r\nL 17.1875 29.109375 \r\nL 17.1875 0 \r\nz\r\nM 17.1875 37.546875 \r\nL 35.6875 37.546875 \r\nQ 44.875 37.546875 48.734375 40.96875 \r\nQ 52.59375 44.390625 52.59375 50.59375 \r\nQ 52.59375 55.078125 50.3125 58.265625 \r\nQ 48.046875 61.46875 44.34375 62.5 \r\nQ 41.9375 63.140625 35.5 63.140625 \r\nL 17.1875 63.140625 \r\nz\r\n\" id=\"ArialMT-80\"/>\r\n        <path d=\"M 40.578125 0 \r\nL 40.578125 7.625 \r\nQ 34.515625 -1.171875 24.125 -1.171875 \r\nQ 19.53125 -1.171875 15.546875 0.578125 \r\nQ 11.578125 2.34375 9.640625 5 \r\nQ 7.71875 7.671875 6.9375 11.53125 \r\nQ 6.390625 14.109375 6.390625 19.734375 \r\nL 6.390625 51.859375 \r\nL 15.1875 51.859375 \r\nL 15.1875 23.09375 \r\nQ 15.1875 16.21875 15.71875 13.8125 \r\nQ 16.546875 10.359375 19.234375 8.375 \r\nQ 21.921875 6.390625 25.875 6.390625 \r\nQ 29.828125 6.390625 33.296875 8.421875 \r\nQ 36.765625 10.453125 38.203125 13.9375 \r\nQ 39.65625 17.4375 39.65625 24.078125 \r\nL 39.65625 51.859375 \r\nL 48.4375 51.859375 \r\nL 48.4375 0 \r\nz\r\n\" id=\"ArialMT-117\"/>\r\n        <path d=\"M 6.390625 0 \r\nL 6.390625 71.578125 \r\nL 15.1875 71.578125 \r\nL 15.1875 0 \r\nz\r\n\" id=\"ArialMT-108\"/>\r\n        <path d=\"M 3.078125 15.484375 \r\nL 11.765625 16.84375 \r\nQ 12.5 11.625 15.84375 8.84375 \r\nQ 19.1875 6.0625 25.203125 6.0625 \r\nQ 31.25 6.0625 34.171875 8.515625 \r\nQ 37.109375 10.984375 37.109375 14.3125 \r\nQ 37.109375 17.28125 34.515625 19 \r\nQ 32.71875 20.171875 25.53125 21.96875 \r\nQ 15.875 24.421875 12.140625 26.203125 \r\nQ 8.40625 27.984375 6.46875 31.125 \r\nQ 4.546875 34.28125 4.546875 38.09375 \r\nQ 4.546875 41.546875 6.125 44.5 \r\nQ 7.71875 47.46875 10.453125 49.421875 \r\nQ 12.5 50.921875 16.03125 51.96875 \r\nQ 19.578125 53.03125 23.640625 53.03125 \r\nQ 29.734375 53.03125 34.34375 51.265625 \r\nQ 38.96875 49.515625 41.15625 46.5 \r\nQ 43.359375 43.5 44.1875 38.484375 \r\nL 35.59375 37.3125 \r\nQ 35.015625 41.3125 32.203125 43.546875 \r\nQ 29.390625 45.796875 24.265625 45.796875 \r\nQ 18.21875 45.796875 15.625 43.796875 \r\nQ 13.03125 41.796875 13.03125 39.109375 \r\nQ 13.03125 37.40625 14.109375 36.03125 \r\nQ 15.1875 34.625 17.484375 33.6875 \r\nQ 18.796875 33.203125 25.25 31.453125 \r\nQ 34.578125 28.953125 38.25 27.359375 \r\nQ 41.9375 25.78125 44.03125 22.75 \r\nQ 46.140625 19.734375 46.140625 15.234375 \r\nQ 46.140625 10.84375 43.578125 6.953125 \r\nQ 41.015625 3.078125 36.171875 0.953125 \r\nQ 31.34375 -1.171875 25.25 -1.171875 \r\nQ 15.140625 -1.171875 9.84375 3.03125 \r\nQ 4.546875 7.234375 3.078125 15.484375 \r\nz\r\n\" id=\"ArialMT-115\"/>\r\n        <path d=\"M 40.4375 6.390625 \r\nQ 35.546875 2.25 31.03125 0.53125 \r\nQ 26.515625 -1.171875 21.34375 -1.171875 \r\nQ 12.796875 -1.171875 8.203125 3 \r\nQ 3.609375 7.171875 3.609375 13.671875 \r\nQ 3.609375 17.484375 5.34375 20.625 \r\nQ 7.078125 23.78125 9.890625 25.6875 \r\nQ 12.703125 27.59375 16.21875 28.5625 \r\nQ 18.796875 29.25 24.03125 29.890625 \r\nQ 34.671875 31.15625 39.703125 32.90625 \r\nQ 39.75 34.71875 39.75 35.203125 \r\nQ 39.75 40.578125 37.25 42.78125 \r\nQ 33.890625 45.75 27.25 45.75 \r\nQ 21.046875 45.75 18.09375 43.578125 \r\nQ 15.140625 41.40625 13.71875 35.890625 \r\nL 5.125 37.0625 \r\nQ 6.296875 42.578125 8.984375 45.96875 \r\nQ 11.671875 49.359375 16.75 51.1875 \r\nQ 21.828125 53.03125 28.515625 53.03125 \r\nQ 35.15625 53.03125 39.296875 51.46875 \r\nQ 43.453125 49.90625 45.40625 47.53125 \r\nQ 47.359375 45.171875 48.140625 41.546875 \r\nQ 48.578125 39.3125 48.578125 33.453125 \r\nL 48.578125 21.734375 \r\nQ 48.578125 9.46875 49.140625 6.21875 \r\nQ 49.703125 2.984375 51.375 0 \r\nL 42.1875 0 \r\nQ 40.828125 2.734375 40.4375 6.390625 \r\nz\r\nM 39.703125 26.03125 \r\nQ 34.90625 24.078125 25.34375 22.703125 \r\nQ 19.921875 21.921875 17.671875 20.9375 \r\nQ 15.4375 19.96875 14.203125 18.09375 \r\nQ 12.984375 16.21875 12.984375 13.921875 \r\nQ 12.984375 10.40625 15.640625 8.0625 \r\nQ 18.3125 5.71875 23.4375 5.71875 \r\nQ 28.515625 5.71875 32.46875 7.9375 \r\nQ 36.421875 10.15625 38.28125 14.015625 \r\nQ 39.703125 17 39.703125 22.796875 \r\nz\r\n\" id=\"ArialMT-97\"/>\r\n        <path d=\"M 6.5 0 \r\nL 6.5 51.859375 \r\nL 14.40625 51.859375 \r\nL 14.40625 44 \r\nQ 17.4375 49.515625 20 51.265625 \r\nQ 22.5625 53.03125 25.640625 53.03125 \r\nQ 30.078125 53.03125 34.671875 50.203125 \r\nL 31.640625 42.046875 \r\nQ 28.421875 43.953125 25.203125 43.953125 \r\nQ 22.3125 43.953125 20.015625 42.21875 \r\nQ 17.71875 40.484375 16.75 37.40625 \r\nQ 15.28125 32.71875 15.28125 27.15625 \r\nL 15.28125 0 \r\nz\r\n\" id=\"ArialMT-114\"/>\r\n       </defs>\r\n       <use xlink:href=\"#ArialMT-80\"/>\r\n       <use x=\"66.699219\" xlink:href=\"#ArialMT-117\"/>\r\n       <use x=\"122.314453\" xlink:href=\"#ArialMT-108\"/>\r\n       <use x=\"144.53125\" xlink:href=\"#ArialMT-115\"/>\r\n       <use x=\"194.53125\" xlink:href=\"#ArialMT-97\"/>\r\n       <use x=\"250.146484\" xlink:href=\"#ArialMT-114\"/>\r\n      </g>\r\n     </g>\r\n    </g>\r\n    <g id=\"text_3\">\r\n     <!-- Predicted Class -->\r\n     <g style=\"fill:#262626;\" transform=\"translate(174.993359 269.797656)scale(0.15 -0.15)\">\r\n      <defs>\r\n       <path d=\"M 42.09375 16.703125 \r\nL 51.171875 15.578125 \r\nQ 49.03125 7.625 43.21875 3.21875 \r\nQ 37.40625 -1.171875 28.375 -1.171875 \r\nQ 17 -1.171875 10.328125 5.828125 \r\nQ 3.65625 12.84375 3.65625 25.484375 \r\nQ 3.65625 38.578125 10.390625 45.796875 \r\nQ 17.140625 53.03125 27.875 53.03125 \r\nQ 38.28125 53.03125 44.875 45.953125 \r\nQ 51.46875 38.875 51.46875 26.03125 \r\nQ 51.46875 25.25 51.421875 23.6875 \r\nL 12.75 23.6875 \r\nQ 13.234375 15.140625 17.578125 10.59375 \r\nQ 21.921875 6.0625 28.421875 6.0625 \r\nQ 33.25 6.0625 36.671875 8.59375 \r\nQ 40.09375 11.140625 42.09375 16.703125 \r\nz\r\nM 13.234375 30.90625 \r\nL 42.1875 30.90625 \r\nQ 41.609375 37.453125 38.875 40.71875 \r\nQ 34.671875 45.796875 27.984375 45.796875 \r\nQ 21.921875 45.796875 17.796875 41.75 \r\nQ 13.671875 37.703125 13.234375 30.90625 \r\nz\r\n\" id=\"ArialMT-101\"/>\r\n       <path d=\"M 40.234375 0 \r\nL 40.234375 6.546875 \r\nQ 35.296875 -1.171875 25.734375 -1.171875 \r\nQ 19.53125 -1.171875 14.328125 2.25 \r\nQ 9.125 5.671875 6.265625 11.796875 \r\nQ 3.421875 17.921875 3.421875 25.875 \r\nQ 3.421875 33.640625 6 39.96875 \r\nQ 8.59375 46.296875 13.765625 49.65625 \r\nQ 18.953125 53.03125 25.34375 53.03125 \r\nQ 30.03125 53.03125 33.6875 51.046875 \r\nQ 37.359375 49.078125 39.65625 45.90625 \r\nL 39.65625 71.578125 \r\nL 48.390625 71.578125 \r\nL 48.390625 0 \r\nz\r\nM 12.453125 25.875 \r\nQ 12.453125 15.921875 16.640625 10.984375 \r\nQ 20.84375 6.0625 26.5625 6.0625 \r\nQ 32.328125 6.0625 36.34375 10.765625 \r\nQ 40.375 15.484375 40.375 25.140625 \r\nQ 40.375 35.796875 36.265625 40.765625 \r\nQ 32.171875 45.75 26.171875 45.75 \r\nQ 20.3125 45.75 16.375 40.96875 \r\nQ 12.453125 36.1875 12.453125 25.875 \r\nz\r\n\" id=\"ArialMT-100\"/>\r\n       <path d=\"M 6.640625 61.46875 \r\nL 6.640625 71.578125 \r\nL 15.4375 71.578125 \r\nL 15.4375 61.46875 \r\nz\r\nM 6.640625 0 \r\nL 6.640625 51.859375 \r\nL 15.4375 51.859375 \r\nL 15.4375 0 \r\nz\r\n\" id=\"ArialMT-105\"/>\r\n       <path d=\"M 40.4375 19 \r\nL 49.078125 17.875 \r\nQ 47.65625 8.9375 41.8125 3.875 \r\nQ 35.984375 -1.171875 27.484375 -1.171875 \r\nQ 16.84375 -1.171875 10.375 5.78125 \r\nQ 3.90625 12.75 3.90625 25.734375 \r\nQ 3.90625 34.125 6.6875 40.421875 \r\nQ 9.46875 46.734375 15.15625 49.875 \r\nQ 20.84375 53.03125 27.546875 53.03125 \r\nQ 35.984375 53.03125 41.359375 48.75 \r\nQ 46.734375 44.484375 48.25 36.625 \r\nL 39.703125 35.296875 \r\nQ 38.484375 40.53125 35.375 43.15625 \r\nQ 32.28125 45.796875 27.875 45.796875 \r\nQ 21.234375 45.796875 17.078125 41.03125 \r\nQ 12.9375 36.28125 12.9375 25.984375 \r\nQ 12.9375 15.53125 16.9375 10.796875 \r\nQ 20.953125 6.0625 27.390625 6.0625 \r\nQ 32.5625 6.0625 36.03125 9.234375 \r\nQ 39.5 12.40625 40.4375 19 \r\nz\r\n\" id=\"ArialMT-99\"/>\r\n       <path d=\"M 25.78125 7.859375 \r\nL 27.046875 0.09375 \r\nQ 23.34375 -0.6875 20.40625 -0.6875 \r\nQ 15.625 -0.6875 12.984375 0.828125 \r\nQ 10.359375 2.34375 9.28125 4.8125 \r\nQ 8.203125 7.28125 8.203125 15.1875 \r\nL 8.203125 45.015625 \r\nL 1.765625 45.015625 \r\nL 1.765625 51.859375 \r\nL 8.203125 51.859375 \r\nL 8.203125 64.703125 \r\nL 16.9375 69.96875 \r\nL 16.9375 51.859375 \r\nL 25.78125 51.859375 \r\nL 25.78125 45.015625 \r\nL 16.9375 45.015625 \r\nL 16.9375 14.703125 \r\nQ 16.9375 10.9375 17.40625 9.859375 \r\nQ 17.875 8.796875 18.921875 8.15625 \r\nQ 19.96875 7.515625 21.921875 7.515625 \r\nQ 23.390625 7.515625 25.78125 7.859375 \r\nz\r\n\" id=\"ArialMT-116\"/>\r\n       <path id=\"ArialMT-32\"/>\r\n       <path d=\"M 58.796875 25.09375 \r\nL 68.265625 22.703125 \r\nQ 65.28125 11.03125 57.546875 4.90625 \r\nQ 49.8125 -1.21875 38.625 -1.21875 \r\nQ 27.046875 -1.21875 19.796875 3.484375 \r\nQ 12.546875 8.203125 8.765625 17.140625 \r\nQ 4.984375 26.078125 4.984375 36.328125 \r\nQ 4.984375 47.515625 9.25 55.828125 \r\nQ 13.53125 64.15625 21.40625 68.46875 \r\nQ 29.296875 72.796875 38.765625 72.796875 \r\nQ 49.515625 72.796875 56.828125 67.328125 \r\nQ 64.15625 61.859375 67.046875 51.953125 \r\nL 57.71875 49.75 \r\nQ 55.21875 57.5625 50.484375 61.125 \r\nQ 45.75 64.703125 38.578125 64.703125 \r\nQ 30.328125 64.703125 24.78125 60.734375 \r\nQ 19.234375 56.78125 16.984375 50.109375 \r\nQ 14.75 43.453125 14.75 36.375 \r\nQ 14.75 27.25 17.40625 20.4375 \r\nQ 20.0625 13.625 25.671875 10.25 \r\nQ 31.296875 6.890625 37.84375 6.890625 \r\nQ 45.796875 6.890625 51.3125 11.46875 \r\nQ 56.84375 16.0625 58.796875 25.09375 \r\nz\r\n\" id=\"ArialMT-67\"/>\r\n      </defs>\r\n      <use xlink:href=\"#ArialMT-80\"/>\r\n      <use x=\"66.699219\" xlink:href=\"#ArialMT-114\"/>\r\n      <use x=\"100\" xlink:href=\"#ArialMT-101\"/>\r\n      <use x=\"155.615234\" xlink:href=\"#ArialMT-100\"/>\r\n      <use x=\"211.230469\" xlink:href=\"#ArialMT-105\"/>\r\n      <use x=\"233.447266\" xlink:href=\"#ArialMT-99\"/>\r\n      <use x=\"283.447266\" xlink:href=\"#ArialMT-116\"/>\r\n      <use x=\"311.230469\" xlink:href=\"#ArialMT-101\"/>\r\n      <use x=\"366.845703\" xlink:href=\"#ArialMT-100\"/>\r\n      <use x=\"422.460938\" xlink:href=\"#ArialMT-32\"/>\r\n      <use x=\"450.244141\" xlink:href=\"#ArialMT-67\"/>\r\n      <use x=\"522.460938\" xlink:href=\"#ArialMT-108\"/>\r\n      <use x=\"544.677734\" xlink:href=\"#ArialMT-97\"/>\r\n      <use x=\"600.292969\" xlink:href=\"#ArialMT-115\"/>\r\n      <use x=\"650.292969\" xlink:href=\"#ArialMT-115\"/>\r\n     </g>\r\n    </g>\r\n   </g>\r\n   <g id=\"matplotlib.axis_2\">\r\n    <g id=\"ytick_1\">\r\n     <g id=\"line2d_3\"/>\r\n     <g id=\"text_4\">\r\n      <!-- RFI -->\r\n      <g style=\"fill:#262626;\" transform=\"translate(32.075781 93.769531)rotate(-90)scale(0.1 -0.1)\">\r\n       <use xlink:href=\"#ArialMT-82\"/>\r\n       <use x=\"72.216797\" xlink:href=\"#ArialMT-70\"/>\r\n       <use x=\"133.300781\" xlink:href=\"#ArialMT-73\"/>\r\n      </g>\r\n     </g>\r\n    </g>\r\n    <g id=\"ytick_2\">\r\n     <g id=\"line2d_4\"/>\r\n     <g id=\"text_5\">\r\n      <!-- Pulsar -->\r\n      <g style=\"fill:#262626;\" transform=\"translate(32.075781 213.455469)rotate(-90)scale(0.1 -0.1)\">\r\n       <use xlink:href=\"#ArialMT-80\"/>\r\n       <use x=\"66.699219\" xlink:href=\"#ArialMT-117\"/>\r\n       <use x=\"122.314453\" xlink:href=\"#ArialMT-108\"/>\r\n       <use x=\"144.53125\" xlink:href=\"#ArialMT-115\"/>\r\n       <use x=\"194.53125\" xlink:href=\"#ArialMT-97\"/>\r\n       <use x=\"250.146484\" xlink:href=\"#ArialMT-114\"/>\r\n      </g>\r\n     </g>\r\n    </g>\r\n    <g id=\"text_6\">\r\n     <!-- Actual Class -->\r\n     <g style=\"fill:#262626;\" transform=\"translate(17.936719 176.646875)rotate(-90)scale(0.15 -0.15)\">\r\n      <defs>\r\n       <path d=\"M -0.140625 0 \r\nL 27.34375 71.578125 \r\nL 37.546875 71.578125 \r\nL 66.84375 0 \r\nL 56.0625 0 \r\nL 47.703125 21.6875 \r\nL 17.78125 21.6875 \r\nL 9.90625 0 \r\nz\r\nM 20.515625 29.390625 \r\nL 44.78125 29.390625 \r\nL 37.3125 49.21875 \r\nQ 33.890625 58.25 32.234375 64.0625 \r\nQ 30.859375 57.171875 28.375 50.390625 \r\nz\r\n\" id=\"ArialMT-65\"/>\r\n      </defs>\r\n      <use xlink:href=\"#ArialMT-65\"/>\r\n      <use x=\"66.699219\" xlink:href=\"#ArialMT-99\"/>\r\n      <use x=\"116.699219\" xlink:href=\"#ArialMT-116\"/>\r\n      <use x=\"144.482422\" xlink:href=\"#ArialMT-117\"/>\r\n      <use x=\"200.097656\" xlink:href=\"#ArialMT-97\"/>\r\n      <use x=\"255.712891\" xlink:href=\"#ArialMT-108\"/>\r\n      <use x=\"277.929688\" xlink:href=\"#ArialMT-32\"/>\r\n      <use x=\"305.712891\" xlink:href=\"#ArialMT-67\"/>\r\n      <use x=\"377.929688\" xlink:href=\"#ArialMT-108\"/>\r\n      <use x=\"400.146484\" xlink:href=\"#ArialMT-97\"/>\r\n      <use x=\"455.761719\" xlink:href=\"#ArialMT-115\"/>\r\n      <use x=\"505.761719\" xlink:href=\"#ArialMT-115\"/>\r\n     </g>\r\n    </g>\r\n   </g>\r\n   <g id=\"QuadMesh_1\">\r\n    <path clip-path=\"url(#pf14a15f5b8)\" d=\"M 37.563281 27.515625 \r\nL 227.513281 27.515625 \r\nL 227.513281 134.965625 \r\nL 37.563281 134.965625 \r\nL 37.563281 27.515625 \r\n\" style=\"fill:#08306b;stroke:#ffffff;stroke-width:0.5;\"/>\r\n    <path clip-path=\"url(#pf14a15f5b8)\" d=\"M 227.513281 27.515625 \r\nL 417.463281 27.515625 \r\nL 417.463281 134.965625 \r\nL 227.513281 134.965625 \r\nL 227.513281 27.515625 \r\n\" style=\"fill:#f5fafe;stroke:#ffffff;stroke-width:0.5;\"/>\r\n    <path clip-path=\"url(#pf14a15f5b8)\" d=\"M 37.563281 134.965625 \r\nL 227.513281 134.965625 \r\nL 227.513281 242.415625 \r\nL 37.563281 242.415625 \r\nL 37.563281 134.965625 \r\n\" style=\"fill:#f7fbff;stroke:#ffffff;stroke-width:0.5;\"/>\r\n    <path clip-path=\"url(#pf14a15f5b8)\" d=\"M 227.513281 134.965625 \r\nL 417.463281 134.965625 \r\nL 417.463281 242.415625 \r\nL 227.513281 242.415625 \r\nL 227.513281 134.965625 \r\n\" style=\"fill:#e7f1fa;stroke:#ffffff;stroke-width:0.5;\"/>\r\n   </g>\r\n   <g id=\"text_7\">\r\n    <!-- 3234 -->\r\n    <g style=\"fill:#ffffff;\" transform=\"translate(118.079844 84.601328)scale(0.13 -0.13)\">\r\n     <defs>\r\n      <path d=\"M 4.203125 18.890625 \r\nL 12.984375 20.0625 \r\nQ 14.5 12.59375 18.140625 9.296875 \r\nQ 21.78125 6 27 6 \r\nQ 33.203125 6 37.46875 10.296875 \r\nQ 41.75 14.59375 41.75 20.953125 \r\nQ 41.75 27 37.796875 30.921875 \r\nQ 33.84375 34.859375 27.734375 34.859375 \r\nQ 25.25 34.859375 21.53125 33.890625 \r\nL 22.515625 41.609375 \r\nQ 23.390625 41.5 23.921875 41.5 \r\nQ 29.546875 41.5 34.03125 44.421875 \r\nQ 38.53125 47.359375 38.53125 53.46875 \r\nQ 38.53125 58.296875 35.25 61.46875 \r\nQ 31.984375 64.65625 26.8125 64.65625 \r\nQ 21.6875 64.65625 18.265625 61.421875 \r\nQ 14.84375 58.203125 13.875 51.765625 \r\nL 5.078125 53.328125 \r\nQ 6.6875 62.15625 12.390625 67.015625 \r\nQ 18.109375 71.875 26.609375 71.875 \r\nQ 32.46875 71.875 37.390625 69.359375 \r\nQ 42.328125 66.84375 44.9375 62.5 \r\nQ 47.5625 58.15625 47.5625 53.265625 \r\nQ 47.5625 48.640625 45.0625 44.828125 \r\nQ 42.578125 41.015625 37.703125 38.765625 \r\nQ 44.046875 37.3125 47.5625 32.6875 \r\nQ 51.078125 28.078125 51.078125 21.140625 \r\nQ 51.078125 11.765625 44.234375 5.25 \r\nQ 37.40625 -1.265625 26.953125 -1.265625 \r\nQ 17.53125 -1.265625 11.296875 4.34375 \r\nQ 5.078125 9.96875 4.203125 18.890625 \r\nz\r\n\" id=\"ArialMT-51\"/>\r\n      <path d=\"M 50.34375 8.453125 \r\nL 50.34375 0 \r\nL 3.03125 0 \r\nQ 2.9375 3.171875 4.046875 6.109375 \r\nQ 5.859375 10.9375 9.828125 15.625 \r\nQ 13.8125 20.3125 21.34375 26.46875 \r\nQ 33.015625 36.03125 37.109375 41.625 \r\nQ 41.21875 47.21875 41.21875 52.203125 \r\nQ 41.21875 57.421875 37.46875 61 \r\nQ 33.734375 64.59375 27.734375 64.59375 \r\nQ 21.390625 64.59375 17.578125 60.78125 \r\nQ 13.765625 56.984375 13.71875 50.25 \r\nL 4.6875 51.171875 \r\nQ 5.609375 61.28125 11.65625 66.578125 \r\nQ 17.71875 71.875 27.9375 71.875 \r\nQ 38.234375 71.875 44.234375 66.15625 \r\nQ 50.25 60.453125 50.25 52 \r\nQ 50.25 47.703125 48.484375 43.546875 \r\nQ 46.734375 39.40625 42.65625 34.8125 \r\nQ 38.578125 30.21875 29.109375 22.21875 \r\nQ 21.1875 15.578125 18.9375 13.203125 \r\nQ 16.703125 10.84375 15.234375 8.453125 \r\nz\r\n\" id=\"ArialMT-50\"/>\r\n      <path d=\"M 32.328125 0 \r\nL 32.328125 17.140625 \r\nL 1.265625 17.140625 \r\nL 1.265625 25.203125 \r\nL 33.9375 71.578125 \r\nL 41.109375 71.578125 \r\nL 41.109375 25.203125 \r\nL 50.78125 25.203125 \r\nL 50.78125 17.140625 \r\nL 41.109375 17.140625 \r\nL 41.109375 0 \r\nz\r\nM 32.328125 25.203125 \r\nL 32.328125 57.46875 \r\nL 9.90625 25.203125 \r\nz\r\n\" id=\"ArialMT-52\"/>\r\n     </defs>\r\n     <use xlink:href=\"#ArialMT-51\"/>\r\n     <use x=\"55.615234\" xlink:href=\"#ArialMT-50\"/>\r\n     <use x=\"111.230469\" xlink:href=\"#ArialMT-51\"/>\r\n     <use x=\"166.845703\" xlink:href=\"#ArialMT-52\"/>\r\n    </g>\r\n   </g>\r\n   <g id=\"text_8\">\r\n    <!-- 51 -->\r\n    <g style=\"fill:#262626;\" transform=\"translate(315.259062 84.601328)scale(0.13 -0.13)\">\r\n     <defs>\r\n      <path d=\"M 4.15625 18.75 \r\nL 13.375 19.53125 \r\nQ 14.40625 12.796875 18.140625 9.390625 \r\nQ 21.875 6 27.15625 6 \r\nQ 33.5 6 37.890625 10.78125 \r\nQ 42.28125 15.578125 42.28125 23.484375 \r\nQ 42.28125 31 38.0625 35.34375 \r\nQ 33.84375 39.703125 27 39.703125 \r\nQ 22.75 39.703125 19.328125 37.765625 \r\nQ 15.921875 35.84375 13.96875 32.765625 \r\nL 5.71875 33.84375 \r\nL 12.640625 70.609375 \r\nL 48.25 70.609375 \r\nL 48.25 62.203125 \r\nL 19.671875 62.203125 \r\nL 15.828125 42.96875 \r\nQ 22.265625 47.46875 29.34375 47.46875 \r\nQ 38.71875 47.46875 45.15625 40.96875 \r\nQ 51.609375 34.46875 51.609375 24.265625 \r\nQ 51.609375 14.546875 45.953125 7.46875 \r\nQ 39.0625 -1.21875 27.15625 -1.21875 \r\nQ 17.390625 -1.21875 11.203125 4.25 \r\nQ 5.03125 9.71875 4.15625 18.75 \r\nz\r\n\" id=\"ArialMT-53\"/>\r\n      <path d=\"M 37.25 0 \r\nL 28.46875 0 \r\nL 28.46875 56 \r\nQ 25.296875 52.984375 20.140625 49.953125 \r\nQ 14.984375 46.921875 10.890625 45.40625 \r\nL 10.890625 53.90625 \r\nQ 18.265625 57.375 23.78125 62.296875 \r\nQ 29.296875 67.234375 31.59375 71.875 \r\nL 37.25 71.875 \r\nz\r\n\" id=\"ArialMT-49\"/>\r\n     </defs>\r\n     <use xlink:href=\"#ArialMT-53\"/>\r\n     <use x=\"55.615234\" xlink:href=\"#ArialMT-49\"/>\r\n    </g>\r\n   </g>\r\n   <g id=\"text_9\">\r\n    <!-- 25 -->\r\n    <g style=\"fill:#262626;\" transform=\"translate(125.309063 192.051328)scale(0.13 -0.13)\">\r\n     <use xlink:href=\"#ArialMT-50\"/>\r\n     <use x=\"55.615234\" xlink:href=\"#ArialMT-53\"/>\r\n    </g>\r\n   </g>\r\n   <g id=\"text_10\">\r\n    <!-- 270 -->\r\n    <g style=\"fill:#262626;\" transform=\"translate(311.644453 192.051328)scale(0.13 -0.13)\">\r\n     <defs>\r\n      <path d=\"M 4.734375 62.203125 \r\nL 4.734375 70.65625 \r\nL 51.078125 70.65625 \r\nL 51.078125 63.8125 \r\nQ 44.234375 56.546875 37.515625 44.484375 \r\nQ 30.8125 32.421875 27.15625 19.671875 \r\nQ 24.515625 10.6875 23.78125 0 \r\nL 14.75 0 \r\nQ 14.890625 8.453125 18.0625 20.40625 \r\nQ 21.234375 32.375 27.171875 43.484375 \r\nQ 33.109375 54.59375 39.796875 62.203125 \r\nz\r\n\" id=\"ArialMT-55\"/>\r\n      <path d=\"M 4.15625 35.296875 \r\nQ 4.15625 48 6.765625 55.734375 \r\nQ 9.375 63.484375 14.515625 67.671875 \r\nQ 19.671875 71.875 27.484375 71.875 \r\nQ 33.25 71.875 37.59375 69.546875 \r\nQ 41.9375 67.234375 44.765625 62.859375 \r\nQ 47.609375 58.5 49.21875 52.21875 \r\nQ 50.828125 45.953125 50.828125 35.296875 \r\nQ 50.828125 22.703125 48.234375 14.96875 \r\nQ 45.65625 7.234375 40.5 3 \r\nQ 35.359375 -1.21875 27.484375 -1.21875 \r\nQ 17.140625 -1.21875 11.234375 6.203125 \r\nQ 4.15625 15.140625 4.15625 35.296875 \r\nz\r\nM 13.1875 35.296875 \r\nQ 13.1875 17.671875 17.3125 11.828125 \r\nQ 21.4375 6 27.484375 6 \r\nQ 33.546875 6 37.671875 11.859375 \r\nQ 41.796875 17.71875 41.796875 35.296875 \r\nQ 41.796875 52.984375 37.671875 58.78125 \r\nQ 33.546875 64.59375 27.390625 64.59375 \r\nQ 21.34375 64.59375 17.71875 59.46875 \r\nQ 13.1875 52.9375 13.1875 35.296875 \r\nz\r\n\" id=\"ArialMT-48\"/>\r\n     </defs>\r\n     <use xlink:href=\"#ArialMT-50\"/>\r\n     <use x=\"55.615234\" xlink:href=\"#ArialMT-55\"/>\r\n     <use x=\"111.230469\" xlink:href=\"#ArialMT-48\"/>\r\n    </g>\r\n   </g>\r\n   <g id=\"text_11\">\r\n    <!-- Confusion Matrix -->\r\n    <g style=\"fill:#262626;\" transform=\"translate(152.488281 21.515625)scale(0.2 -0.2)\">\r\n     <defs>\r\n      <path d=\"M 3.328125 25.921875 \r\nQ 3.328125 40.328125 11.328125 47.265625 \r\nQ 18.015625 53.03125 27.640625 53.03125 \r\nQ 38.328125 53.03125 45.109375 46.015625 \r\nQ 51.90625 39.015625 51.90625 26.65625 \r\nQ 51.90625 16.65625 48.90625 10.90625 \r\nQ 45.90625 5.171875 40.15625 2 \r\nQ 34.421875 -1.171875 27.640625 -1.171875 \r\nQ 16.75 -1.171875 10.03125 5.8125 \r\nQ 3.328125 12.796875 3.328125 25.921875 \r\nz\r\nM 12.359375 25.921875 \r\nQ 12.359375 15.96875 16.703125 11.015625 \r\nQ 21.046875 6.0625 27.640625 6.0625 \r\nQ 34.1875 6.0625 38.53125 11.03125 \r\nQ 42.875 16.015625 42.875 26.21875 \r\nQ 42.875 35.84375 38.5 40.796875 \r\nQ 34.125 45.75 27.640625 45.75 \r\nQ 21.046875 45.75 16.703125 40.8125 \r\nQ 12.359375 35.890625 12.359375 25.921875 \r\nz\r\n\" id=\"ArialMT-111\"/>\r\n      <path d=\"M 6.59375 0 \r\nL 6.59375 51.859375 \r\nL 14.5 51.859375 \r\nL 14.5 44.484375 \r\nQ 20.21875 53.03125 31 53.03125 \r\nQ 35.6875 53.03125 39.625 51.34375 \r\nQ 43.5625 49.65625 45.515625 46.921875 \r\nQ 47.46875 44.1875 48.25 40.4375 \r\nQ 48.734375 37.984375 48.734375 31.890625 \r\nL 48.734375 0 \r\nL 39.9375 0 \r\nL 39.9375 31.546875 \r\nQ 39.9375 36.921875 38.90625 39.578125 \r\nQ 37.890625 42.234375 35.28125 43.8125 \r\nQ 32.671875 45.40625 29.15625 45.40625 \r\nQ 23.53125 45.40625 19.453125 41.84375 \r\nQ 15.375 38.28125 15.375 28.328125 \r\nL 15.375 0 \r\nz\r\n\" id=\"ArialMT-110\"/>\r\n      <path d=\"M 8.6875 0 \r\nL 8.6875 45.015625 \r\nL 0.921875 45.015625 \r\nL 0.921875 51.859375 \r\nL 8.6875 51.859375 \r\nL 8.6875 57.375 \r\nQ 8.6875 62.59375 9.625 65.140625 \r\nQ 10.890625 68.5625 14.078125 70.671875 \r\nQ 17.28125 72.796875 23.046875 72.796875 \r\nQ 26.765625 72.796875 31.25 71.921875 \r\nL 29.9375 64.265625 \r\nQ 27.203125 64.75 24.75 64.75 \r\nQ 20.75 64.75 19.09375 63.03125 \r\nQ 17.4375 61.328125 17.4375 56.640625 \r\nL 17.4375 51.859375 \r\nL 27.546875 51.859375 \r\nL 27.546875 45.015625 \r\nL 17.4375 45.015625 \r\nL 17.4375 0 \r\nz\r\n\" id=\"ArialMT-102\"/>\r\n      <path d=\"M 7.421875 0 \r\nL 7.421875 71.578125 \r\nL 21.6875 71.578125 \r\nL 38.625 20.90625 \r\nQ 40.96875 13.8125 42.046875 10.296875 \r\nQ 43.265625 14.203125 45.84375 21.78125 \r\nL 62.984375 71.578125 \r\nL 75.734375 71.578125 \r\nL 75.734375 0 \r\nL 66.609375 0 \r\nL 66.609375 59.90625 \r\nL 45.796875 0 \r\nL 37.25 0 \r\nL 16.546875 60.9375 \r\nL 16.546875 0 \r\nz\r\n\" id=\"ArialMT-77\"/>\r\n      <path d=\"M 0.734375 0 \r\nL 19.671875 26.953125 \r\nL 2.15625 51.859375 \r\nL 13.140625 51.859375 \r\nL 21.09375 39.703125 \r\nQ 23.34375 36.234375 24.703125 33.890625 \r\nQ 26.859375 37.109375 28.65625 39.59375 \r\nL 37.40625 51.859375 \r\nL 47.90625 51.859375 \r\nL 29.984375 27.4375 \r\nL 49.265625 0 \r\nL 38.484375 0 \r\nL 27.828125 16.109375 \r\nL 25 20.453125 \r\nL 11.375 0 \r\nz\r\n\" id=\"ArialMT-120\"/>\r\n     </defs>\r\n     <use xlink:href=\"#ArialMT-67\"/>\r\n     <use x=\"72.216797\" xlink:href=\"#ArialMT-111\"/>\r\n     <use x=\"127.832031\" xlink:href=\"#ArialMT-110\"/>\r\n     <use x=\"183.447266\" xlink:href=\"#ArialMT-102\"/>\r\n     <use x=\"211.230469\" xlink:href=\"#ArialMT-117\"/>\r\n     <use x=\"266.845703\" xlink:href=\"#ArialMT-115\"/>\r\n     <use x=\"316.845703\" xlink:href=\"#ArialMT-105\"/>\r\n     <use x=\"339.0625\" xlink:href=\"#ArialMT-111\"/>\r\n     <use x=\"394.677734\" xlink:href=\"#ArialMT-110\"/>\r\n     <use x=\"450.292969\" xlink:href=\"#ArialMT-32\"/>\r\n     <use x=\"478.076172\" xlink:href=\"#ArialMT-77\"/>\r\n     <use x=\"561.376953\" xlink:href=\"#ArialMT-97\"/>\r\n     <use x=\"616.992188\" xlink:href=\"#ArialMT-116\"/>\r\n     <use x=\"644.775391\" xlink:href=\"#ArialMT-114\"/>\r\n     <use x=\"678.076172\" xlink:href=\"#ArialMT-105\"/>\r\n     <use x=\"700.292969\" xlink:href=\"#ArialMT-120\"/>\r\n    </g>\r\n   </g>\r\n  </g>\r\n </g>\r\n <defs>\r\n  <clipPath id=\"pf14a15f5b8\">\r\n   <rect height=\"214.9\" width=\"379.9\" x=\"37.563281\" y=\"27.515625\"/>\r\n  </clipPath>\r\n </defs>\r\n</svg>\r\n",
      "image/png": "[encoded data removed]"
     },
     "metadata": {}
    }
   ],
   "source": [
    "# there are a ton of different modles we can use from sklearn\n",
    "# We will only focus on neural networks for this notebook\n",
    "# The process is pretty much the same for all of them, you just have to \n",
    "# reference the online documentation to see what kinds of parameters are availible to you\n",
    "\n",
    "# import the model from sklearn\n",
    "# The documentation for MLPClassifier can be found here\n",
    "# https://scikit-learn.org/stable/modules/generated/sklearn.neural_network.MLPClassifier.html\n",
    "from sklearn.neural_network import MLPClassifier\n",
    "\n",
    "# create the model with whatever parameters you want to try\n",
    "# for now I will just set the number and size of the hidden layers created\n",
    "# If you want to mess with other parameters, reference the documentation\n",
    "# This is 3 hidden layers of 10 hidden nodes each\n",
    "neural_network = MLPClassifier(hidden_layer_sizes=(10,10,10))\n",
    "\n",
    "\n",
    "# This line trains the model using the input and output of the training sets we separated before\n",
    "neural_network.fit(x_train, y_train)\n",
    "\n",
    "# This line uses the model we just created to predict the outputs of the test set\n",
    "y_predict = neural_network.predict(x_test)\n",
    "# redicted outputs and the actual outputs to see how our model did\n",
    "# we will look at the performance with the sklearn metrics we imported before\n",
    "print(\"Accuracy Score:\", end = \" \")\n",
    "print(accuracy_score(y_test, y_predict))\n",
    "print(\"F1 Score:\", end =\" \")\n",
    "print(f1_score(y_test, y_predict, average=None))\n",
    "\n",
    "import seaborn as sns\n",
    "plt.title(\"Confusion Matrix\", fontsize=20)\n",
    "\n",
    "palette = sns.set_palette('pastel')\n",
    "\n",
    "sns.heatmap(confusion_matrix(y_predict, y_test),cbar=False,annot=True, annot_kws={'size': 13}, fmt=\"d\", linewidth=.5, robust=True, xticklabels=['RFI','Pulsar'], yticklabels=['RFI', 'Pulsar'], cmap='Blues', vmax = 3225, vmin = 19)\n",
    "\n",
    "plt.xlabel('Predicted Class', fontsize=15)\n",
    "plt.ylabel('Actual Class', fontsize=15)\n",
    "plt.tight_layout()"
   ]
  },
  {
   "cell_type": "code",
   "execution_count": 15,
   "metadata": {
    "tags": [
     "outputPrepend"
    ]
   },
   "outputs": [
    {
     "output_type": "stream",
     "name": "stderr",
     "text": [
      "s\\sklearn\\neural_network\\_multilayer_perceptron.py:500: ConvergenceWarning: lbfgs failed to converge (status=1):\n",
      "STOP: TOTAL NO. of ITERATIONS REACHED LIMIT.\n",
      "\n",
      "Increase the number of iterations (max_iter) or scale the data as shown in:\n",
      "    https://scikit-learn.org/stable/modules/preprocessing.html\n",
      "  self.n_iter_ = _check_optimize_result(\"lbfgs\", opt_res, self.max_iter)\n",
      "C:\\Users\\nnull\\AppData\\Local\\Programs\\Python\\Python38\\lib\\site-packages\\sklearn\\utils\\validation.py:63: DataConversionWarning: A column-vector y was passed when a 1d array was expected. Please change the shape of y to (n_samples, ), for example using ravel().\n",
      "  return f(*args, **kwargs)\n",
      "C:\\Users\\nnull\\AppData\\Local\\Programs\\Python\\Python38\\lib\\site-packages\\sklearn\\neural_network\\_multilayer_perceptron.py:500: ConvergenceWarning: lbfgs failed to converge (status=1):\n",
      "STOP: TOTAL NO. of ITERATIONS REACHED LIMIT.\n",
      "\n",
      "Increase the number of iterations (max_iter) or scale the data as shown in:\n",
      "    https://scikit-learn.org/stable/modules/preprocessing.html\n",
      "  self.n_iter_ = _check_optimize_result(\"lbfgs\", opt_res, self.max_iter)\n",
      "C:\\Users\\nnull\\AppData\\Local\\Programs\\Python\\Python38\\lib\\site-packages\\sklearn\\utils\\validation.py:63: DataConversionWarning: A column-vector y was passed when a 1d array was expected. Please change the shape of y to (n_samples, ), for example using ravel().\n",
      "  return f(*args, **kwargs)\n",
      "C:\\Users\\nnull\\AppData\\Local\\Programs\\Python\\Python38\\lib\\site-packages\\sklearn\\neural_network\\_multilayer_perceptron.py:500: ConvergenceWarning: lbfgs failed to converge (status=1):\n",
      "STOP: TOTAL NO. of ITERATIONS REACHED LIMIT.\n",
      "\n",
      "Increase the number of iterations (max_iter) or scale the data as shown in:\n",
      "    https://scikit-learn.org/stable/modules/preprocessing.html\n",
      "  self.n_iter_ = _check_optimize_result(\"lbfgs\", opt_res, self.max_iter)\n",
      "C:\\Users\\nnull\\AppData\\Local\\Programs\\Python\\Python38\\lib\\site-packages\\sklearn\\utils\\validation.py:63: DataConversionWarning: A column-vector y was passed when a 1d array was expected. Please change the shape of y to (n_samples, ), for example using ravel().\n",
      "  return f(*args, **kwargs)\n",
      "C:\\Users\\nnull\\AppData\\Local\\Programs\\Python\\Python38\\lib\\site-packages\\sklearn\\neural_network\\_multilayer_perceptron.py:500: ConvergenceWarning: lbfgs failed to converge (status=1):\n",
      "STOP: TOTAL NO. of ITERATIONS REACHED LIMIT.\n",
      "\n",
      "Increase the number of iterations (max_iter) or scale the data as shown in:\n",
      "    https://scikit-learn.org/stable/modules/preprocessing.html\n",
      "  self.n_iter_ = _check_optimize_result(\"lbfgs\", opt_res, self.max_iter)\n",
      "C:\\Users\\nnull\\AppData\\Local\\Programs\\Python\\Python38\\lib\\site-packages\\sklearn\\utils\\validation.py:63: DataConversionWarning: A column-vector y was passed when a 1d array was expected. Please change the shape of y to (n_samples, ), for example using ravel().\n",
      "  return f(*args, **kwargs)\n",
      "C:\\Users\\nnull\\AppData\\Local\\Programs\\Python\\Python38\\lib\\site-packages\\sklearn\\utils\\validation.py:63: DataConversionWarning: A column-vector y was passed when a 1d array was expected. Please change the shape of y to (n_samples, ), for example using ravel().\n",
      "  return f(*args, **kwargs)\n",
      "C:\\Users\\nnull\\AppData\\Local\\Programs\\Python\\Python38\\lib\\site-packages\\sklearn\\utils\\validation.py:63: DataConversionWarning: A column-vector y was passed when a 1d array was expected. Please change the shape of y to (n_samples, ), for example using ravel().\n",
      "  return f(*args, **kwargs)\n",
      "C:\\Users\\nnull\\AppData\\Local\\Programs\\Python\\Python38\\lib\\site-packages\\sklearn\\utils\\validation.py:63: DataConversionWarning: A column-vector y was passed when a 1d array was expected. Please change the shape of y to (n_samples, ), for example using ravel().\n",
      "  return f(*args, **kwargs)\n",
      "C:\\Users\\nnull\\AppData\\Local\\Programs\\Python\\Python38\\lib\\site-packages\\sklearn\\utils\\validation.py:63: DataConversionWarning: A column-vector y was passed when a 1d array was expected. Please change the shape of y to (n_samples, ), for example using ravel().\n",
      "  return f(*args, **kwargs)\n",
      "C:\\Users\\nnull\\AppData\\Local\\Programs\\Python\\Python38\\lib\\site-packages\\sklearn\\utils\\validation.py:63: DataConversionWarning: A column-vector y was passed when a 1d array was expected. Please change the shape of y to (n_samples, ), for example using ravel().\n",
      "  return f(*args, **kwargs)\n",
      "C:\\Users\\nnull\\AppData\\Local\\Programs\\Python\\Python38\\lib\\site-packages\\sklearn\\utils\\validation.py:63: DataConversionWarning: A column-vector y was passed when a 1d array was expected. Please change the shape of y to (n_samples, ), for example using ravel().\n",
      "  return f(*args, **kwargs)\n",
      "C:\\Users\\nnull\\AppData\\Local\\Programs\\Python\\Python38\\lib\\site-packages\\sklearn\\utils\\validation.py:63: DataConversionWarning: A column-vector y was passed when a 1d array was expected. Please change the shape of y to (n_samples, ), for example using ravel().\n",
      "  return f(*args, **kwargs)\n",
      "C:\\Users\\nnull\\AppData\\Local\\Programs\\Python\\Python38\\lib\\site-packages\\sklearn\\utils\\validation.py:63: DataConversionWarning: A column-vector y was passed when a 1d array was expected. Please change the shape of y to (n_samples, ), for example using ravel().\n",
      "  return f(*args, **kwargs)\n",
      "C:\\Users\\nnull\\AppData\\Local\\Programs\\Python\\Python38\\lib\\site-packages\\sklearn\\utils\\validation.py:63: DataConversionWarning: A column-vector y was passed when a 1d array was expected. Please change the shape of y to (n_samples, ), for example using ravel().\n",
      "  return f(*args, **kwargs)\n",
      "C:\\Users\\nnull\\AppData\\Local\\Programs\\Python\\Python38\\lib\\site-packages\\sklearn\\utils\\validation.py:63: DataConversionWarning: A column-vector y was passed when a 1d array was expected. Please change the shape of y to (n_samples, ), for example using ravel().\n",
      "  return f(*args, **kwargs)\n",
      "C:\\Users\\nnull\\AppData\\Local\\Programs\\Python\\Python38\\lib\\site-packages\\sklearn\\neural_network\\_multilayer_perceptron.py:500: ConvergenceWarning: lbfgs failed to converge (status=1):\n",
      "STOP: TOTAL NO. of ITERATIONS REACHED LIMIT.\n",
      "\n",
      "Increase the number of iterations (max_iter) or scale the data as shown in:\n",
      "    https://scikit-learn.org/stable/modules/preprocessing.html\n",
      "  self.n_iter_ = _check_optimize_result(\"lbfgs\", opt_res, self.max_iter)\n",
      "C:\\Users\\nnull\\AppData\\Local\\Programs\\Python\\Python38\\lib\\site-packages\\sklearn\\utils\\validation.py:63: DataConversionWarning: A column-vector y was passed when a 1d array was expected. Please change the shape of y to (n_samples, ), for example using ravel().\n",
      "  return f(*args, **kwargs)\n",
      "C:\\Users\\nnull\\AppData\\Local\\Programs\\Python\\Python38\\lib\\site-packages\\sklearn\\neural_network\\_multilayer_perceptron.py:500: ConvergenceWarning: lbfgs failed to converge (status=1):\n",
      "STOP: TOTAL NO. of ITERATIONS REACHED LIMIT.\n",
      "\n",
      "Increase the number of iterations (max_iter) or scale the data as shown in:\n",
      "    https://scikit-learn.org/stable/modules/preprocessing.html\n",
      "  self.n_iter_ = _check_optimize_result(\"lbfgs\", opt_res, self.max_iter)\n",
      "C:\\Users\\nnull\\AppData\\Local\\Programs\\Python\\Python38\\lib\\site-packages\\sklearn\\utils\\validation.py:63: DataConversionWarning: A column-vector y was passed when a 1d array was expected. Please change the shape of y to (n_samples, ), for example using ravel().\n",
      "  return f(*args, **kwargs)\n",
      "C:\\Users\\nnull\\AppData\\Local\\Programs\\Python\\Python38\\lib\\site-packages\\sklearn\\neural_network\\_multilayer_perceptron.py:500: ConvergenceWarning: lbfgs failed to converge (status=1):\n",
      "STOP: TOTAL NO. of ITERATIONS REACHED LIMIT.\n",
      "\n",
      "Increase the number of iterations (max_iter) or scale the data as shown in:\n",
      "    https://scikit-learn.org/stable/modules/preprocessing.html\n",
      "  self.n_iter_ = _check_optimize_result(\"lbfgs\", opt_res, self.max_iter)\n",
      "C:\\Users\\nnull\\AppData\\Local\\Programs\\Python\\Python38\\lib\\site-packages\\sklearn\\utils\\validation.py:63: DataConversionWarning: A column-vector y was passed when a 1d array was expected. Please change the shape of y to (n_samples, ), for example using ravel().\n",
      "  return f(*args, **kwargs)\n",
      "C:\\Users\\nnull\\AppData\\Local\\Programs\\Python\\Python38\\lib\\site-packages\\sklearn\\neural_network\\_multilayer_perceptron.py:500: ConvergenceWarning: lbfgs failed to converge (status=1):\n",
      "STOP: TOTAL NO. of ITERATIONS REACHED LIMIT.\n",
      "\n",
      "Increase the number of iterations (max_iter) or scale the data as shown in:\n",
      "    https://scikit-learn.org/stable/modules/preprocessing.html\n",
      "  self.n_iter_ = _check_optimize_result(\"lbfgs\", opt_res, self.max_iter)\n",
      "C:\\Users\\nnull\\AppData\\Local\\Programs\\Python\\Python38\\lib\\site-packages\\sklearn\\utils\\validation.py:63: DataConversionWarning: A column-vector y was passed when a 1d array was expected. Please change the shape of y to (n_samples, ), for example using ravel().\n",
      "  return f(*args, **kwargs)\n",
      "C:\\Users\\nnull\\AppData\\Local\\Programs\\Python\\Python38\\lib\\site-packages\\sklearn\\neural_network\\_multilayer_perceptron.py:500: ConvergenceWarning: lbfgs failed to converge (status=1):\n",
      "STOP: TOTAL NO. of ITERATIONS REACHED LIMIT.\n",
      "\n",
      "Increase the number of iterations (max_iter) or scale the data as shown in:\n",
      "    https://scikit-learn.org/stable/modules/preprocessing.html\n",
      "  self.n_iter_ = _check_optimize_result(\"lbfgs\", opt_res, self.max_iter)\n",
      "C:\\Users\\nnull\\AppData\\Local\\Programs\\Python\\Python38\\lib\\site-packages\\sklearn\\utils\\validation.py:63: DataConversionWarning: A column-vector y was passed when a 1d array was expected. Please change the shape of y to (n_samples, ), for example using ravel().\n",
      "  return f(*args, **kwargs)\n",
      "C:\\Users\\nnull\\AppData\\Local\\Programs\\Python\\Python38\\lib\\site-packages\\sklearn\\utils\\validation.py:63: DataConversionWarning: A column-vector y was passed when a 1d array was expected. Please change the shape of y to (n_samples, ), for example using ravel().\n",
      "  return f(*args, **kwargs)\n",
      "C:\\Users\\nnull\\AppData\\Local\\Programs\\Python\\Python38\\lib\\site-packages\\sklearn\\utils\\validation.py:63: DataConversionWarning: A column-vector y was passed when a 1d array was expected. Please change the shape of y to (n_samples, ), for example using ravel().\n",
      "  return f(*args, **kwargs)\n",
      "C:\\Users\\nnull\\AppData\\Local\\Programs\\Python\\Python38\\lib\\site-packages\\sklearn\\utils\\validation.py:63: DataConversionWarning: A column-vector y was passed when a 1d array was expected. Please change the shape of y to (n_samples, ), for example using ravel().\n",
      "  return f(*args, **kwargs)\n",
      "C:\\Users\\nnull\\AppData\\Local\\Programs\\Python\\Python38\\lib\\site-packages\\sklearn\\utils\\validation.py:63: DataConversionWarning: A column-vector y was passed when a 1d array was expected. Please change the shape of y to (n_samples, ), for example using ravel().\n",
      "  return f(*args, **kwargs)\n",
      "C:\\Users\\nnull\\AppData\\Local\\Programs\\Python\\Python38\\lib\\site-packages\\sklearn\\utils\\validation.py:63: DataConversionWarning: A column-vector y was passed when a 1d array was expected. Please change the shape of y to (n_samples, ), for example using ravel().\n",
      "  return f(*args, **kwargs)\n",
      "C:\\Users\\nnull\\AppData\\Local\\Programs\\Python\\Python38\\lib\\site-packages\\sklearn\\utils\\validation.py:63: DataConversionWarning: A column-vector y was passed when a 1d array was expected. Please change the shape of y to (n_samples, ), for example using ravel().\n",
      "  return f(*args, **kwargs)\n",
      "C:\\Users\\nnull\\AppData\\Local\\Programs\\Python\\Python38\\lib\\site-packages\\sklearn\\neural_network\\_multilayer_perceptron.py:614: ConvergenceWarning: Stochastic Optimizer: Maximum iterations (200) reached and the optimization hasn't converged yet.\n",
      "  warnings.warn(\n",
      "C:\\Users\\nnull\\AppData\\Local\\Programs\\Python\\Python38\\lib\\site-packages\\sklearn\\utils\\validation.py:63: DataConversionWarning: A column-vector y was passed when a 1d array was expected. Please change the shape of y to (n_samples, ), for example using ravel().\n",
      "  return f(*args, **kwargs)\n",
      "C:\\Users\\nnull\\AppData\\Local\\Programs\\Python\\Python38\\lib\\site-packages\\sklearn\\utils\\validation.py:63: DataConversionWarning: A column-vector y was passed when a 1d array was expected. Please change the shape of y to (n_samples, ), for example using ravel().\n",
      "  return f(*args, **kwargs)\n",
      "C:\\Users\\nnull\\AppData\\Local\\Programs\\Python\\Python38\\lib\\site-packages\\sklearn\\utils\\validation.py:63: DataConversionWarning: A column-vector y was passed when a 1d array was expected. Please change the shape of y to (n_samples, ), for example using ravel().\n",
      "  return f(*args, **kwargs)\n",
      "C:\\Users\\nnull\\AppData\\Local\\Programs\\Python\\Python38\\lib\\site-packages\\sklearn\\utils\\validation.py:63: DataConversionWarning: A column-vector y was passed when a 1d array was expected. Please change the shape of y to (n_samples, ), for example using ravel().\n",
      "  return f(*args, **kwargs)\n",
      "C:\\Users\\nnull\\AppData\\Local\\Programs\\Python\\Python38\\lib\\site-packages\\sklearn\\neural_network\\_multilayer_perceptron.py:500: ConvergenceWarning: lbfgs failed to converge (status=1):\n",
      "STOP: TOTAL NO. of ITERATIONS REACHED LIMIT.\n",
      "\n",
      "Increase the number of iterations (max_iter) or scale the data as shown in:\n",
      "    https://scikit-learn.org/stable/modules/preprocessing.html\n",
      "  self.n_iter_ = _check_optimize_result(\"lbfgs\", opt_res, self.max_iter)\n",
      "C:\\Users\\nnull\\AppData\\Local\\Programs\\Python\\Python38\\lib\\site-packages\\sklearn\\utils\\validation.py:63: DataConversionWarning: A column-vector y was passed when a 1d array was expected. Please change the shape of y to (n_samples, ), for example using ravel().\n",
      "  return f(*args, **kwargs)\n",
      "C:\\Users\\nnull\\AppData\\Local\\Programs\\Python\\Python38\\lib\\site-packages\\sklearn\\neural_network\\_multilayer_perceptron.py:500: ConvergenceWarning: lbfgs failed to converge (status=1):\n",
      "STOP: TOTAL NO. of ITERATIONS REACHED LIMIT.\n",
      "\n",
      "Increase the number of iterations (max_iter) or scale the data as shown in:\n",
      "    https://scikit-learn.org/stable/modules/preprocessing.html\n",
      "  self.n_iter_ = _check_optimize_result(\"lbfgs\", opt_res, self.max_iter)\n",
      "C:\\Users\\nnull\\AppData\\Local\\Programs\\Python\\Python38\\lib\\site-packages\\sklearn\\utils\\validation.py:63: DataConversionWarning: A column-vector y was passed when a 1d array was expected. Please change the shape of y to (n_samples, ), for example using ravel().\n",
      "  return f(*args, **kwargs)\n",
      "C:\\Users\\nnull\\AppData\\Local\\Programs\\Python\\Python38\\lib\\site-packages\\sklearn\\neural_network\\_multilayer_perceptron.py:500: ConvergenceWarning: lbfgs failed to converge (status=1):\n",
      "STOP: TOTAL NO. of ITERATIONS REACHED LIMIT.\n",
      "\n",
      "Increase the number of iterations (max_iter) or scale the data as shown in:\n",
      "    https://scikit-learn.org/stable/modules/preprocessing.html\n",
      "  self.n_iter_ = _check_optimize_result(\"lbfgs\", opt_res, self.max_iter)\n",
      "C:\\Users\\nnull\\AppData\\Local\\Programs\\Python\\Python38\\lib\\site-packages\\sklearn\\utils\\validation.py:63: DataConversionWarning: A column-vector y was passed when a 1d array was expected. Please change the shape of y to (n_samples, ), for example using ravel().\n",
      "  return f(*args, **kwargs)\n",
      "C:\\Users\\nnull\\AppData\\Local\\Programs\\Python\\Python38\\lib\\site-packages\\sklearn\\neural_network\\_multilayer_perceptron.py:500: ConvergenceWarning: lbfgs failed to converge (status=1):\n",
      "STOP: TOTAL NO. of ITERATIONS REACHED LIMIT.\n",
      "\n",
      "Increase the number of iterations (max_iter) or scale the data as shown in:\n",
      "    https://scikit-learn.org/stable/modules/preprocessing.html\n",
      "  self.n_iter_ = _check_optimize_result(\"lbfgs\", opt_res, self.max_iter)\n",
      "C:\\Users\\nnull\\AppData\\Local\\Programs\\Python\\Python38\\lib\\site-packages\\sklearn\\utils\\validation.py:63: DataConversionWarning: A column-vector y was passed when a 1d array was expected. Please change the shape of y to (n_samples, ), for example using ravel().\n",
      "  return f(*args, **kwargs)\n",
      "C:\\Users\\nnull\\AppData\\Local\\Programs\\Python\\Python38\\lib\\site-packages\\sklearn\\neural_network\\_multilayer_perceptron.py:500: ConvergenceWarning: lbfgs failed to converge (status=1):\n",
      "STOP: TOTAL NO. of ITERATIONS REACHED LIMIT.\n",
      "\n",
      "Increase the number of iterations (max_iter) or scale the data as shown in:\n",
      "    https://scikit-learn.org/stable/modules/preprocessing.html\n",
      "  self.n_iter_ = _check_optimize_result(\"lbfgs\", opt_res, self.max_iter)\n",
      "C:\\Users\\nnull\\AppData\\Local\\Programs\\Python\\Python38\\lib\\site-packages\\sklearn\\utils\\validation.py:63: DataConversionWarning: A column-vector y was passed when a 1d array was expected. Please change the shape of y to (n_samples, ), for example using ravel().\n",
      "  return f(*args, **kwargs)\n",
      "C:\\Users\\nnull\\AppData\\Local\\Programs\\Python\\Python38\\lib\\site-packages\\sklearn\\utils\\validation.py:63: DataConversionWarning: A column-vector y was passed when a 1d array was expected. Please change the shape of y to (n_samples, ), for example using ravel().\n",
      "  return f(*args, **kwargs)\n",
      "C:\\Users\\nnull\\AppData\\Local\\Programs\\Python\\Python38\\lib\\site-packages\\sklearn\\neural_network\\_multilayer_perceptron.py:614: ConvergenceWarning: Stochastic Optimizer: Maximum iterations (200) reached and the optimization hasn't converged yet.\n",
      "  warnings.warn(\n",
      "C:\\Users\\nnull\\AppData\\Local\\Programs\\Python\\Python38\\lib\\site-packages\\sklearn\\utils\\validation.py:63: DataConversionWarning: A column-vector y was passed when a 1d array was expected. Please change the shape of y to (n_samples, ), for example using ravel().\n",
      "  return f(*args, **kwargs)\n",
      "C:\\Users\\nnull\\AppData\\Local\\Programs\\Python\\Python38\\lib\\site-packages\\sklearn\\utils\\validation.py:63: DataConversionWarning: A column-vector y was passed when a 1d array was expected. Please change the shape of y to (n_samples, ), for example using ravel().\n",
      "  return f(*args, **kwargs)\n",
      "C:\\Users\\nnull\\AppData\\Local\\Programs\\Python\\Python38\\lib\\site-packages\\sklearn\\utils\\validation.py:63: DataConversionWarning: A column-vector y was passed when a 1d array was expected. Please change the shape of y to (n_samples, ), for example using ravel().\n",
      "  return f(*args, **kwargs)\n",
      "C:\\Users\\nnull\\AppData\\Local\\Programs\\Python\\Python38\\lib\\site-packages\\sklearn\\utils\\validation.py:63: DataConversionWarning: A column-vector y was passed when a 1d array was expected. Please change the shape of y to (n_samples, ), for example using ravel().\n",
      "  return f(*args, **kwargs)\n",
      "C:\\Users\\nnull\\AppData\\Local\\Programs\\Python\\Python38\\lib\\site-packages\\sklearn\\neural_network\\_multilayer_perceptron.py:614: ConvergenceWarning: Stochastic Optimizer: Maximum iterations (200) reached and the optimization hasn't converged yet.\n",
      "  warnings.warn(\n",
      "C:\\Users\\nnull\\AppData\\Local\\Programs\\Python\\Python38\\lib\\site-packages\\sklearn\\utils\\validation.py:63: DataConversionWarning: A column-vector y was passed when a 1d array was expected. Please change the shape of y to (n_samples, ), for example using ravel().\n",
      "  return f(*args, **kwargs)\n",
      "C:\\Users\\nnull\\AppData\\Local\\Programs\\Python\\Python38\\lib\\site-packages\\sklearn\\utils\\validation.py:63: DataConversionWarning: A column-vector y was passed when a 1d array was expected. Please change the shape of y to (n_samples, ), for example using ravel().\n",
      "  return f(*args, **kwargs)\n",
      "C:\\Users\\nnull\\AppData\\Local\\Programs\\Python\\Python38\\lib\\site-packages\\sklearn\\utils\\validation.py:63: DataConversionWarning: A column-vector y was passed when a 1d array was expected. Please change the shape of y to (n_samples, ), for example using ravel().\n",
      "  return f(*args, **kwargs)\n",
      "C:\\Users\\nnull\\AppData\\Local\\Programs\\Python\\Python38\\lib\\site-packages\\sklearn\\utils\\validation.py:63: DataConversionWarning: A column-vector y was passed when a 1d array was expected. Please change the shape of y to (n_samples, ), for example using ravel().\n",
      "  return f(*args, **kwargs)\n",
      "C:\\Users\\nnull\\AppData\\Local\\Programs\\Python\\Python38\\lib\\site-packages\\sklearn\\utils\\validation.py:63: DataConversionWarning: A column-vector y was passed when a 1d array was expected. Please change the shape of y to (n_samples, ), for example using ravel().\n",
      "  return f(*args, **kwargs)\n",
      "C:\\Users\\nnull\\AppData\\Local\\Programs\\Python\\Python38\\lib\\site-packages\\sklearn\\neural_network\\_multilayer_perceptron.py:500: ConvergenceWarning: lbfgs failed to converge (status=1):\n",
      "STOP: TOTAL NO. of ITERATIONS REACHED LIMIT.\n",
      "\n",
      "Increase the number of iterations (max_iter) or scale the data as shown in:\n",
      "    https://scikit-learn.org/stable/modules/preprocessing.html\n",
      "  self.n_iter_ = _check_optimize_result(\"lbfgs\", opt_res, self.max_iter)\n"
     ]
    },
    {
     "output_type": "execute_result",
     "data": {
      "text/plain": [
       "GridSearchCV(cv=5, estimator=MLPClassifier(hidden_layer_sizes=(10, 10, 10)),\n",
       "             param_grid={'activation': ['identity', 'logistic', 'tanh', 'relu'],\n",
       "                         'solver': ['lbfgs', 'sgd', 'adam']})"
      ]
     },
     "metadata": {},
     "execution_count": 15
    }
   ],
   "source": [
    "# 97% accuracy is pretty good\n",
    "\n",
    "# we can try other parameters to see if they do better\n",
    "# It is almost impossible to try all combinations by hand\n",
    "# there is a helpful method that lets us try different models \n",
    "\n",
    "# Grid search\n",
    "from sklearn.model_selection import GridSearchCV\n",
    "\n",
    "# Here we are comparing the 4 different values of activation and 3 different values for solver\n",
    "# Gridsearch will compare all possible combinations of these and return the best\n",
    "# The parameters are the model you want to use, a list of parameters you want to check, \n",
    "# cv and others you can look into\n",
    "# cv=5 basically splits the test data into 5 different tests and then it takes the average to rank them\n",
    "grid_search = GridSearchCV(MLPClassifier(hidden_layer_sizes=(10,10,10)),{\n",
    "    'activation': ['identity', 'logistic', 'tanh', 'relu'],\n",
    "    'solver': ['lbfgs', 'sgd', 'adam']\n",
    "}, cv=5, return_train_score=False)\n",
    "\n",
    "grid_search.fit(x_train, y_train)\n"
   ]
  },
  {
   "cell_type": "code",
   "execution_count": 16,
   "metadata": {},
   "outputs": [
    {
     "output_type": "execute_result",
     "data": {
      "text/plain": [
       "   mean_fit_time  std_fit_time  mean_score_time  std_score_time  \\\n",
       "0       1.596066      0.115624         0.002993        0.000894   \n",
       "1       1.301678      1.364905         0.002821        0.000710   \n",
       "2       1.100885      0.148681         0.002769        0.000300   \n",
       "3       2.956254      0.393813         0.003860        0.000161   \n",
       "4       0.644134      0.028657         0.003397        0.000349   \n",
       "\n",
       "  param_activation param_solver  \\\n",
       "0         identity        lbfgs   \n",
       "1         identity          sgd   \n",
       "2         identity         adam   \n",
       "3         logistic        lbfgs   \n",
       "4         logistic          sgd   \n",
       "\n",
       "                                          params  split0_test_score  \\\n",
       "0  {'activation': 'identity', 'solver': 'lbfgs'}           0.981494   \n",
       "1    {'activation': 'identity', 'solver': 'sgd'}           0.973464   \n",
       "2   {'activation': 'identity', 'solver': 'adam'}           0.978701   \n",
       "3  {'activation': 'logistic', 'solver': 'lbfgs'}           0.980447   \n",
       "4    {'activation': 'logistic', 'solver': 'sgd'}           0.907821   \n",
       "\n",
       "   split1_test_score  split2_test_score  split3_test_score  split4_test_score  \\\n",
       "0           0.975209           0.980440           0.974502           0.977995   \n",
       "1           0.907821           0.974153           0.970311           0.972057   \n",
       "2           0.972067           0.974502           0.971708           0.977297   \n",
       "3           0.971020           0.980440           0.974153           0.975201   \n",
       "4           0.907821           0.908138           0.908138           0.907789   \n",
       "\n",
       "   mean_test_score  std_test_score  rank_test_score  \n",
       "0         0.977928        0.002763                1  \n",
       "1         0.959561        0.025903               11  \n",
       "2         0.974855        0.002777                6  \n",
       "3         0.976252        0.003689                2  \n",
       "4         0.907942        0.000161               12  "
      ],
      "text/html": "<div>\n<style scoped>\n    .dataframe tbody tr th:only-of-type {\n        vertical-align: middle;\n    }\n\n    .dataframe tbody tr th {\n        vertical-align: top;\n    }\n\n    .dataframe thead th {\n        text-align: right;\n    }\n</style>\n<table border=\"1\" class=\"dataframe\">\n  <thead>\n    <tr style=\"text-align: right;\">\n      <th></th>\n      <th>mean_fit_time</th>\n      <th>std_fit_time</th>\n      <th>mean_score_time</th>\n      <th>std_score_time</th>\n      <th>param_activation</th>\n      <th>param_solver</th>\n      <th>params</th>\n      <th>split0_test_score</th>\n      <th>split1_test_score</th>\n      <th>split2_test_score</th>\n      <th>split3_test_score</th>\n      <th>split4_test_score</th>\n      <th>mean_test_score</th>\n      <th>std_test_score</th>\n      <th>rank_test_score</th>\n    </tr>\n  </thead>\n  <tbody>\n    <tr>\n      <th>0</th>\n      <td>1.596066</td>\n      <td>0.115624</td>\n      <td>0.002993</td>\n      <td>0.000894</td>\n      <td>identity</td>\n      <td>lbfgs</td>\n      <td>{'activation': 'identity', 'solver': 'lbfgs'}</td>\n      <td>0.981494</td>\n      <td>0.975209</td>\n      <td>0.980440</td>\n      <td>0.974502</td>\n      <td>0.977995</td>\n      <td>0.977928</td>\n      <td>0.002763</td>\n      <td>1</td>\n    </tr>\n    <tr>\n      <th>1</th>\n      <td>1.301678</td>\n      <td>1.364905</td>\n      <td>0.002821</td>\n      <td>0.000710</td>\n      <td>identity</td>\n      <td>sgd</td>\n      <td>{'activation': 'identity', 'solver': 'sgd'}</td>\n      <td>0.973464</td>\n      <td>0.907821</td>\n      <td>0.974153</td>\n      <td>0.970311</td>\n      <td>0.972057</td>\n      <td>0.959561</td>\n      <td>0.025903</td>\n      <td>11</td>\n    </tr>\n    <tr>\n      <th>2</th>\n      <td>1.100885</td>\n      <td>0.148681</td>\n      <td>0.002769</td>\n      <td>0.000300</td>\n      <td>identity</td>\n      <td>adam</td>\n      <td>{'activation': 'identity', 'solver': 'adam'}</td>\n      <td>0.978701</td>\n      <td>0.972067</td>\n      <td>0.974502</td>\n      <td>0.971708</td>\n      <td>0.977297</td>\n      <td>0.974855</td>\n      <td>0.002777</td>\n      <td>6</td>\n    </tr>\n    <tr>\n      <th>3</th>\n      <td>2.956254</td>\n      <td>0.393813</td>\n      <td>0.003860</td>\n      <td>0.000161</td>\n      <td>logistic</td>\n      <td>lbfgs</td>\n      <td>{'activation': 'logistic', 'solver': 'lbfgs'}</td>\n      <td>0.980447</td>\n      <td>0.971020</td>\n      <td>0.980440</td>\n      <td>0.974153</td>\n      <td>0.975201</td>\n      <td>0.976252</td>\n      <td>0.003689</td>\n      <td>2</td>\n    </tr>\n    <tr>\n      <th>4</th>\n      <td>0.644134</td>\n      <td>0.028657</td>\n      <td>0.003397</td>\n      <td>0.000349</td>\n      <td>logistic</td>\n      <td>sgd</td>\n      <td>{'activation': 'logistic', 'solver': 'sgd'}</td>\n      <td>0.907821</td>\n      <td>0.907821</td>\n      <td>0.908138</td>\n      <td>0.908138</td>\n      <td>0.907789</td>\n      <td>0.907942</td>\n      <td>0.000161</td>\n      <td>12</td>\n    </tr>\n  </tbody>\n</table>\n</div>"
     },
     "metadata": {},
     "execution_count": 16
    }
   ],
   "source": [
    "# Easier to look at results if you save them to a dataframe (so we can manipulate the data with pandas mehtods)\n",
    "grid_search_results = pd.DataFrame(grid_search.cv_results_)\n",
    "grid_search_results.head()"
   ]
  },
  {
   "cell_type": "code",
   "execution_count": 17,
   "metadata": {},
   "outputs": [
    {
     "output_type": "execute_result",
     "data": {
      "text/plain": [
       "    mean_fit_time  std_fit_time  mean_score_time  std_score_time  \\\n",
       "0        1.596066      0.115624         0.002993        0.000894   \n",
       "3        2.956254      0.393813         0.003860        0.000161   \n",
       "5        3.814097      0.661056         0.003260        0.000395   \n",
       "11       3.236132      1.485711         0.002957        0.000633   \n",
       "9        2.527177      0.211673         0.003866        0.001566   \n",
       "\n",
       "   param_activation param_solver  \\\n",
       "0          identity        lbfgs   \n",
       "3          logistic        lbfgs   \n",
       "5          logistic         adam   \n",
       "11             relu         adam   \n",
       "9              relu        lbfgs   \n",
       "\n",
       "                                           params  split0_test_score  \\\n",
       "0   {'activation': 'identity', 'solver': 'lbfgs'}           0.981494   \n",
       "3   {'activation': 'logistic', 'solver': 'lbfgs'}           0.980447   \n",
       "5    {'activation': 'logistic', 'solver': 'adam'}           0.979399   \n",
       "11       {'activation': 'relu', 'solver': 'adam'}           0.979399   \n",
       "9       {'activation': 'relu', 'solver': 'lbfgs'}           0.976257   \n",
       "\n",
       "    split1_test_score  split2_test_score  split3_test_score  \\\n",
       "0            0.975209           0.980440           0.974502   \n",
       "3            0.971020           0.980440           0.974153   \n",
       "5            0.974162           0.976947           0.974153   \n",
       "11           0.973115           0.976249           0.975899   \n",
       "9            0.973813           0.975550           0.974153   \n",
       "\n",
       "    split4_test_score  mean_test_score  std_test_score  rank_test_score  \n",
       "0            0.977995         0.977928        0.002763                1  \n",
       "3            0.975201         0.976252        0.003689                2  \n",
       "5            0.975899         0.976112        0.001959                3  \n",
       "11           0.973454         0.975623        0.002268                4  \n",
       "9            0.975201         0.974995        0.000900                5  "
      ],
      "text/html": "<div>\n<style scoped>\n    .dataframe tbody tr th:only-of-type {\n        vertical-align: middle;\n    }\n\n    .dataframe tbody tr th {\n        vertical-align: top;\n    }\n\n    .dataframe thead th {\n        text-align: right;\n    }\n</style>\n<table border=\"1\" class=\"dataframe\">\n  <thead>\n    <tr style=\"text-align: right;\">\n      <th></th>\n      <th>mean_fit_time</th>\n      <th>std_fit_time</th>\n      <th>mean_score_time</th>\n      <th>std_score_time</th>\n      <th>param_activation</th>\n      <th>param_solver</th>\n      <th>params</th>\n      <th>split0_test_score</th>\n      <th>split1_test_score</th>\n      <th>split2_test_score</th>\n      <th>split3_test_score</th>\n      <th>split4_test_score</th>\n      <th>mean_test_score</th>\n      <th>std_test_score</th>\n      <th>rank_test_score</th>\n    </tr>\n  </thead>\n  <tbody>\n    <tr>\n      <th>0</th>\n      <td>1.596066</td>\n      <td>0.115624</td>\n      <td>0.002993</td>\n      <td>0.000894</td>\n      <td>identity</td>\n      <td>lbfgs</td>\n      <td>{'activation': 'identity', 'solver': 'lbfgs'}</td>\n      <td>0.981494</td>\n      <td>0.975209</td>\n      <td>0.980440</td>\n      <td>0.974502</td>\n      <td>0.977995</td>\n      <td>0.977928</td>\n      <td>0.002763</td>\n      <td>1</td>\n    </tr>\n    <tr>\n      <th>3</th>\n      <td>2.956254</td>\n      <td>0.393813</td>\n      <td>0.003860</td>\n      <td>0.000161</td>\n      <td>logistic</td>\n      <td>lbfgs</td>\n      <td>{'activation': 'logistic', 'solver': 'lbfgs'}</td>\n      <td>0.980447</td>\n      <td>0.971020</td>\n      <td>0.980440</td>\n      <td>0.974153</td>\n      <td>0.975201</td>\n      <td>0.976252</td>\n      <td>0.003689</td>\n      <td>2</td>\n    </tr>\n    <tr>\n      <th>5</th>\n      <td>3.814097</td>\n      <td>0.661056</td>\n      <td>0.003260</td>\n      <td>0.000395</td>\n      <td>logistic</td>\n      <td>adam</td>\n      <td>{'activation': 'logistic', 'solver': 'adam'}</td>\n      <td>0.979399</td>\n      <td>0.974162</td>\n      <td>0.976947</td>\n      <td>0.974153</td>\n      <td>0.975899</td>\n      <td>0.976112</td>\n      <td>0.001959</td>\n      <td>3</td>\n    </tr>\n    <tr>\n      <th>11</th>\n      <td>3.236132</td>\n      <td>1.485711</td>\n      <td>0.002957</td>\n      <td>0.000633</td>\n      <td>relu</td>\n      <td>adam</td>\n      <td>{'activation': 'relu', 'solver': 'adam'}</td>\n      <td>0.979399</td>\n      <td>0.973115</td>\n      <td>0.976249</td>\n      <td>0.975899</td>\n      <td>0.973454</td>\n      <td>0.975623</td>\n      <td>0.002268</td>\n      <td>4</td>\n    </tr>\n    <tr>\n      <th>9</th>\n      <td>2.527177</td>\n      <td>0.211673</td>\n      <td>0.003866</td>\n      <td>0.001566</td>\n      <td>relu</td>\n      <td>lbfgs</td>\n      <td>{'activation': 'relu', 'solver': 'lbfgs'}</td>\n      <td>0.976257</td>\n      <td>0.973813</td>\n      <td>0.975550</td>\n      <td>0.974153</td>\n      <td>0.975201</td>\n      <td>0.974995</td>\n      <td>0.000900</td>\n      <td>5</td>\n    </tr>\n  </tbody>\n</table>\n</div>"
     },
     "metadata": {},
     "execution_count": 17
    }
   ],
   "source": [
    "# this gives us a bunch of helpful data\n",
    "# We can sort based on the rank of the different tests so it is in order of best to worst combinations\n",
    "# by tells us which column value we want to sort by\n",
    "# axis tells us which we are sorting (we want to sort the rows)\n",
    "# ascending is self explanitory\n",
    "grid_search_results = grid_search_results.sort_values(by=['rank_test_score'], axis=0, ascending=True)\n",
    "grid_search_results.head()"
   ]
  },
  {
   "cell_type": "code",
   "execution_count": 18,
   "metadata": {},
   "outputs": [],
   "source": [
    "# if you wanted to save this dataframe use the following\n",
    "# you could use this to do further study on the results\n",
    "grid_search_results.to_csv('tutorialGridSearch.csv', index=False)"
   ]
  },
  {
   "cell_type": "code",
   "execution_count": 19,
   "metadata": {},
   "outputs": [],
   "source": [
    "# The last thing I want to look at in this tutorial is the library pickle\n",
    "# This allows you to save trained models to your hard drive\n",
    "# you can use this to save the best models that could be used for further use\n",
    "import pickle\n",
    "\n",
    "# this is just creating a file to write to and dumping the pickle\n",
    "with open(os.path.join(here, 'tutorialGridsearch.pkl'), 'wb') as f:\n",
    "    pickle.dump(neural_network, f)"
   ]
  },
  {
   "cell_type": "code",
   "execution_count": 20,
   "metadata": {},
   "outputs": [],
   "source": [
    "# to load a pickle do the following\n",
    "with open(os.path.join(here, 'tutorialGridsearch.pkl'), 'rb') as f:\n",
    "    pickled_model = pickle.load(f)"
   ]
  },
  {
   "cell_type": "code",
   "execution_count": 21,
   "metadata": {},
   "outputs": [
    {
     "output_type": "execute_result",
     "data": {
      "text/plain": [
       "0.9787709497206704"
      ]
     },
     "metadata": {},
     "execution_count": 21
    }
   ],
   "source": [
    "# so directly from loading we can use it to predict again\n",
    "y_predict = pickled_model.predict(x_test)\n",
    "\n",
    "accuracy_score(y_test, y_predict)"
   ]
  }
 ]
}